{
 "cells": [
  {
   "cell_type": "markdown",
   "id": "63b7190d-ca26-4c63-a83f-851422ce2488",
   "metadata": {},
   "source": [
    "# GRU model"
   ]
  },
  {
   "cell_type": "markdown",
   "id": "ea44ba32-5c58-4b99-983b-3ec26af16dac",
   "metadata": {},
   "source": [
    "## Setup"
   ]
  },
  {
   "cell_type": "code",
   "execution_count": 1,
   "id": "93485f85-5771-4c8a-8be3-1187b53ca99d",
   "metadata": {
    "tags": []
   },
   "outputs": [
    {
     "name": "stdout",
     "output_type": "stream",
     "text": [
      "Collecting gensim\n",
      "  Downloading gensim-4.3.2-cp310-cp310-manylinux_2_17_x86_64.manylinux2014_x86_64.whl.metadata (8.4 kB)\n",
      "Requirement already satisfied: numpy>=1.18.5 in /opt/conda/lib/python3.10/site-packages (from gensim) (1.24.4)\n",
      "Requirement already satisfied: scipy>=1.7.0 in /opt/conda/lib/python3.10/site-packages (from gensim) (1.11.4)\n",
      "Requirement already satisfied: smart-open>=1.8.1 in /opt/conda/lib/python3.10/site-packages (from gensim) (7.0.4)\n",
      "Requirement already satisfied: wrapt in /opt/conda/lib/python3.10/site-packages (from smart-open>=1.8.1->gensim) (1.16.0)\n",
      "Downloading gensim-4.3.2-cp310-cp310-manylinux_2_17_x86_64.manylinux2014_x86_64.whl (26.5 MB)\n",
      "\u001b[2K   \u001b[90m━━━━━━━━━━━━━━━━━━━━━━━━━━━━━━━━━━━━━━━━\u001b[0m \u001b[32m26.5/26.5 MB\u001b[0m \u001b[31m60.5 MB/s\u001b[0m eta \u001b[36m0:00:00\u001b[0m:00:01\u001b[0m00:01\u001b[0m\n",
      "\u001b[?25hInstalling collected packages: gensim\n",
      "Successfully installed gensim-4.3.2\n"
     ]
    }
   ],
   "source": [
    "# !pip install gensim"
   ]
  },
  {
   "cell_type": "code",
   "execution_count": 37,
   "id": "e7924e3e-771a-4166-ba92-04901eff485c",
   "metadata": {
    "tags": []
   },
   "outputs": [],
   "source": [
    "# import nltk\n",
    "# nltk.download(\"stopwords\")"
   ]
  },
  {
   "cell_type": "code",
   "execution_count": 1,
   "id": "1446c46c-f4bb-4011-8ab7-9d849bd74a67",
   "metadata": {
    "tags": []
   },
   "outputs": [
    {
     "name": "stderr",
     "output_type": "stream",
     "text": [
      "2024-05-12 15:53:58.001680: I tensorflow/core/platform/cpu_feature_guard.cc:193] This TensorFlow binary is optimized with oneAPI Deep Neural Network Library (oneDNN) to use the following CPU instructions in performance-critical operations:  AVX2 FMA\n",
      "To enable them in other operations, rebuild TensorFlow with the appropriate compiler flags.\n",
      "2024-05-12 15:54:02.776770: W tensorflow/compiler/xla/stream_executor/platform/default/dso_loader.cc:64] Could not load dynamic library 'libnvinfer.so.7'; dlerror: libnvinfer.so.7: cannot open shared object file: No such file or directory; LD_LIBRARY_PATH: /usr/local/cuda/lib64:/usr/local/nccl2/lib:/usr/local/cuda/extras/CUPTI/lib64\n",
      "2024-05-12 15:54:02.778191: W tensorflow/compiler/xla/stream_executor/platform/default/dso_loader.cc:64] Could not load dynamic library 'libnvinfer_plugin.so.7'; dlerror: libnvinfer_plugin.so.7: cannot open shared object file: No such file or directory; LD_LIBRARY_PATH: /usr/local/cuda/lib64:/usr/local/nccl2/lib:/usr/local/cuda/extras/CUPTI/lib64\n",
      "2024-05-12 15:54:02.778213: W tensorflow/compiler/tf2tensorrt/utils/py_utils.cc:38] TF-TRT Warning: Cannot dlopen some TensorRT libraries. If you would like to use Nvidia GPU with TensorRT, please make sure the missing libraries mentioned above are installed properly.\n"
     ]
    }
   ],
   "source": [
    "import pandas as pd\n",
    "import numpy as np\n",
    "\n",
    "from tensorflow.keras.preprocessing.text import Tokenizer\n",
    "from tensorflow.keras.preprocessing.sequence import pad_sequences\n",
    "\n",
    "from tensorflow.keras.layers import Masking, GRU, Dense, Dropout\n",
    "from tensorflow.keras.models import Sequential\n",
    "from tensorflow.keras.callbacks import EarlyStopping\n",
    "from tensorflow.keras import regularizers\n",
    "from tensorflow.keras.optimizers import Adam\n",
    "\n",
    "from sklearn.model_selection import train_test_split\n",
    "from sklearn.preprocessing import OneHotEncoder\n",
    "\n",
    "\n",
    "import gensim.downloader as api\n",
    "from nltk.corpus import stopwords"
   ]
  },
  {
   "cell_type": "code",
   "execution_count": 2,
   "id": "9139ebe0-d72a-4528-b210-6f4a921fc63d",
   "metadata": {
    "tags": []
   },
   "outputs": [],
   "source": [
    "X = pd.read_csv(\"../processed_data/features_1000sample_400min_600cutoff_for_embed.csv\")\n",
    "y = pd.read_csv(\"../processed_data/target_1000sample_400min_600cutoff_for_embed.csv\")"
   ]
  },
  {
   "cell_type": "code",
   "execution_count": 3,
   "id": "d5fcd2d6-6b37-48a9-ac2b-d6e6f61bb10a",
   "metadata": {
    "tags": []
   },
   "outputs": [],
   "source": [
    "codes = {p: i for i, p in enumerate(y[\"party\"].unique())}\n",
    "# y = y[\"party\"].map(codes)\n",
    "y = OneHotEncoder(sparse_output=False).fit_transform(y[\"party\"].values.reshape(-1, 1))\n",
    "X = X[\"text\"]"
   ]
  },
  {
   "cell_type": "code",
   "execution_count": 4,
   "id": "ad267388-22a4-493e-b939-7892d6cd3eee",
   "metadata": {
    "tags": []
   },
   "outputs": [
    {
     "data": {
      "text/plain": [
       "((7000,), (7000, 7))"
      ]
     },
     "execution_count": 4,
     "metadata": {},
     "output_type": "execute_result"
    }
   ],
   "source": [
    "X.shape, y.shape"
   ]
  },
  {
   "cell_type": "markdown",
   "id": "2e2cf940-35c4-4b2e-a938-1f9e1a22dfd5",
   "metadata": {},
   "source": [
    "## Preprocessing"
   ]
  },
  {
   "cell_type": "code",
   "execution_count": 5,
   "id": "80120b28-4fe3-466c-9de6-57eb11c77525",
   "metadata": {
    "tags": []
   },
   "outputs": [],
   "source": [
    "X_train, X_test, y_train, y_test = train_test_split(X, y, test_size=0.2, random_state=42)"
   ]
  },
  {
   "cell_type": "markdown",
   "id": "4865f4d5-da88-430d-b487-b011a71231e3",
   "metadata": {},
   "source": [
    "### Embed the training and test sentences"
   ]
  },
  {
   "cell_type": "code",
   "execution_count": 6,
   "id": "5529d597-b059-41b9-82e9-27fc625ad27a",
   "metadata": {
    "tags": []
   },
   "outputs": [],
   "source": [
    "stop_words = set(stopwords.words('english'))\n",
    "\n",
    "# Function to convert a sentence (list of words) into a matrix representing the words in the embedding space\n",
    "def embed_sentence_with_TF(word2vec, sentence):\n",
    "    embedded_sentence = []\n",
    "    for word in sentence:\n",
    "        if word in word2vec and word not in stop_words:\n",
    "            embedded_sentence.append(word2vec[word])\n",
    "        \n",
    "    return np.array(embedded_sentence)\n",
    "\n",
    "# Function that converts a list of sentences into a list of matrices\n",
    "def embedding(word2vec, sentences):\n",
    "    embed = []\n",
    "    \n",
    "    for sentence in sentences:\n",
    "        embedded_sentence = embed_sentence_with_TF(word2vec, sentence.split())\n",
    "        embed.append(embedded_sentence)\n",
    "        \n",
    "    return embed"
   ]
  },
  {
   "cell_type": "code",
   "execution_count": 7,
   "id": "cfcbfff7-7a89-4891-9f34-09a995fa96e1",
   "metadata": {
    "tags": []
   },
   "outputs": [],
   "source": [
    "word2vec_model = api.load(\"glove-wiki-gigaword-100\")"
   ]
  },
  {
   "cell_type": "code",
   "execution_count": 8,
   "id": "248f68ca-285f-4891-bcd1-c00f6ae8b896",
   "metadata": {
    "tags": []
   },
   "outputs": [],
   "source": [
    "X_train_embed = embedding(word2vec_model, X_train)\n",
    "X_test_embed = embedding(word2vec_model, X_test)"
   ]
  },
  {
   "cell_type": "markdown",
   "id": "b33e2f88-9491-4643-9c15-74791472bc7c",
   "metadata": {},
   "source": [
    "### Pad sequences to ensure uniform input size"
   ]
  },
  {
   "cell_type": "code",
   "execution_count": 9,
   "id": "980a9a10-ffc0-4022-9165-83878ff4ea1b",
   "metadata": {
    "tags": []
   },
   "outputs": [
    {
     "data": {
      "text/plain": [
       "407"
      ]
     },
     "execution_count": 9,
     "metadata": {},
     "output_type": "execute_result"
    }
   ],
   "source": [
    "maxlen = max(max([len(x) for x in X_train_embed]), max([len(x) for x in X_test_embed])) # Maximum sequence length\n",
    "maxlen"
   ]
  },
  {
   "cell_type": "code",
   "execution_count": 10,
   "id": "b33c4ab9-e5dc-4668-9287-9a0c81507df4",
   "metadata": {
    "tags": []
   },
   "outputs": [],
   "source": [
    "X_train_pad = pad_sequences(X_train_embed, dtype='float32', padding='post', maxlen=maxlen)\n",
    "X_test_pad = pad_sequences(X_test_embed, dtype='float32', padding='post', maxlen=maxlen)"
   ]
  },
  {
   "cell_type": "markdown",
   "id": "1f953a36-7196-4228-befa-f433f61fd1f4",
   "metadata": {},
   "source": [
    "### Tokenize the text data"
   ]
  },
  {
   "cell_type": "code",
   "execution_count": 11,
   "id": "98e14ba8-0d87-4b43-95ae-01c60f25fda8",
   "metadata": {
    "tags": []
   },
   "outputs": [],
   "source": [
    "# tokenizer = Tokenizer(num_words=10000)  # Limit vocabulary size\n",
    "# tokenizer.fit_on_texts(X_train)\n",
    "# X_train_seq = tokenizer.texts_to_sequences(X_train)\n",
    "# X_test_seq = tokenizer.texts_to_sequences(X_test)"
   ]
  },
  {
   "cell_type": "markdown",
   "id": "5bb3dbfc-a723-4e60-bf61-564f2b46fbe2",
   "metadata": {
    "tags": []
   },
   "source": [
    "## The model"
   ]
  },
  {
   "cell_type": "code",
   "execution_count": 24,
   "id": "8b275137-b08c-4930-a237-cb32e6db3084",
   "metadata": {
    "tags": []
   },
   "outputs": [],
   "source": [
    "# # Convert words to Word2Vec embeddings\n",
    "# word_index = tokenizer.word_index\n",
    "# embedding_matrix = np.zeros((len(word_index) + 1, 300))  # Assuming Word2Vec vectors are 300-dimensional\n",
    "\n",
    "# for word, i in word_index.items():\n",
    "#     if word in word2vec_model:\n",
    "#         embedding_matrix[i] = word2vec_model[word]\n",
    "\n",
    "# # Define the model\n",
    "# embedding_layer = tf.keras.layers.Embedding(len(word_index) + 1,\n",
    "#                                             300,  # Assuming Word2Vec vectors are 300-dimensional\n",
    "#                                             weights=[embedding_matrix],\n",
    "#                                             input_length=maxlen,\n",
    "#                                             trainable=False)  # Freeze the embedding layer"
   ]
  },
  {
   "cell_type": "code",
   "execution_count": 12,
   "id": "22680562-6fc4-4925-9843-e78226998b93",
   "metadata": {
    "tags": []
   },
   "outputs": [
    {
     "name": "stderr",
     "output_type": "stream",
     "text": [
      "2024-05-12 09:35:59.266389: W tensorflow/compiler/xla/stream_executor/platform/default/dso_loader.cc:64] Could not load dynamic library 'libcuda.so.1'; dlerror: libcuda.so.1: cannot open shared object file: No such file or directory; LD_LIBRARY_PATH: /usr/local/cuda/lib64:/usr/local/nccl2/lib:/usr/local/cuda/extras/CUPTI/lib64\n",
      "2024-05-12 09:35:59.267546: W tensorflow/compiler/xla/stream_executor/cuda/cuda_driver.cc:265] failed call to cuInit: UNKNOWN ERROR (303)\n",
      "2024-05-12 09:35:59.267607: I tensorflow/compiler/xla/stream_executor/cuda/cuda_diagnostics.cc:156] kernel driver does not appear to be running on this host (polclass-instance-2): /proc/driver/nvidia/version does not exist\n",
      "2024-05-12 09:35:59.269144: I tensorflow/core/platform/cpu_feature_guard.cc:193] This TensorFlow binary is optimized with oneAPI Deep Neural Network Library (oneDNN) to use the following CPU instructions in performance-critical operations:  AVX2 FMA\n",
      "To enable them in other operations, rebuild TensorFlow with the appropriate compiler flags.\n"
     ]
    }
   ],
   "source": [
    "# Define the model\n",
    "# 51.14%\n",
    "model = Sequential()\n",
    "model.add(Masking())\n",
    "model.add(GRU(128, activation=\"tanh\", return_sequences=True))\n",
    "model.add(GRU(128, activation=\"tanh\", dropout=0.2, recurrent_dropout=0.4,\n",
    "              kernel_regularizer=regularizers.l2(0.01)))\n",
    "model.add(Dense(64, activation=\"relu\"))\n",
    "model.add(Dropout(0.4))\n",
    "model.add(Dense(7, activation=\"softmax\"))\n",
    "\n",
    "# Compile the model\n",
    "my_adam = Adam(learning_rate=0.003)\n",
    "model.compile(optimizer=my_adam, loss='categorical_crossentropy', metrics=['accuracy'])\n",
    "\n",
    "# Early stopping\n",
    "es = EarlyStopping(patience=5, restore_best_weights=True, monitor=\"val_accuracy\", mode=\"max\", verbose=1)"
   ]
  },
  {
   "cell_type": "code",
   "execution_count": 13,
   "id": "928ec721-d1d1-446a-91ce-57914ebab10e",
   "metadata": {
    "tags": []
   },
   "outputs": [],
   "source": [
    "# Define the model\n",
    "# 53.12%\n",
    "model = Sequential()\n",
    "model.add(Masking())\n",
    "model.add(GRU(128, activation=\"tanh\", dropout=0.2, return_sequences=True))\n",
    "model.add(GRU(128, activation=\"tanh\", dropout=0.2, recurrent_dropout=0.4,\n",
    "              kernel_regularizer=regularizers.l2(0.01)))\n",
    "model.add(Dense(64, activation=\"relu\"))\n",
    "model.add(Dropout(0.4))\n",
    "model.add(Dense(7, activation=\"softmax\"))\n",
    "\n",
    "# Compile the model\n",
    "my_adam = Adam(learning_rate=0.003)\n",
    "model.compile(optimizer=my_adam, loss='categorical_crossentropy', metrics=['accuracy'])\n",
    "\n",
    "# Early stopping\n",
    "es = EarlyStopping(patience=5, restore_best_weights=True, monitor=\"val_accuracy\", mode=\"max\", verbose=1)"
   ]
  },
  {
   "cell_type": "code",
   "execution_count": 14,
   "id": "b32c88fa-8ee5-4c6a-a73e-1397c24e1b21",
   "metadata": {
    "tags": []
   },
   "outputs": [],
   "source": [
    "# Define the model\n",
    "# 52.41%\n",
    "model = Sequential()\n",
    "model.add(Masking())\n",
    "model.add(GRU(128, activation=\"tanh\", return_sequences=True))\n",
    "model.add(GRU(128, activation=\"tanh\", dropout=0.2, recurrent_dropout=0.4,\n",
    "              kernel_regularizer=regularizers.l2(0.01)))\n",
    "model.add(Dense(64, activation=\"relu\"))\n",
    "model.add(Dropout(0.4))\n",
    "model.add(Dense(7, activation=\"softmax\"))\n",
    "\n",
    "# Compile the model\n",
    "my_adam = Adam(learning_rate=0.003)\n",
    "model.compile(optimizer=my_adam, loss='categorical_crossentropy', metrics=['accuracy'])\n",
    "\n",
    "# Early stopping\n",
    "es = EarlyStopping(patience=15, restore_best_weights=True, monitor=\"val_accuracy\", mode=\"max\", verbose=1)"
   ]
  },
  {
   "cell_type": "code",
   "execution_count": 16,
   "id": "4e994afb-9585-4063-9f7a-464f4307330f",
   "metadata": {
    "tags": []
   },
   "outputs": [],
   "source": [
    "# Define the model\n",
    "# 52.95%\n",
    "model = Sequential()\n",
    "model.add(Masking())\n",
    "model.add(GRU(200, activation=\"tanh\", return_sequences=True))\n",
    "model.add(GRU(200, activation=\"tanh\", dropout=0.2, recurrent_dropout=0.4,\n",
    "              kernel_regularizer=regularizers.l2(0.01)))\n",
    "model.add(Dense(128, activation=\"relu\"))\n",
    "model.add(Dropout(0.4))\n",
    "model.add(Dense(64, activation=\"relu\"))\n",
    "# model.add(Dropout(0.2))\n",
    "model.add(Dense(7, activation=\"softmax\"))\n",
    "\n",
    "# Compile the model\n",
    "my_adam = Adam(learning_rate=0.003)\n",
    "model.compile(optimizer=my_adam, loss='categorical_crossentropy', metrics=['accuracy'])\n",
    "\n",
    "# Early stopping\n",
    "es = EarlyStopping(patience=5, restore_best_weights=True, monitor=\"val_accuracy\", mode=\"max\", verbose=1)"
   ]
  },
  {
   "cell_type": "code",
   "execution_count": 20,
   "id": "5c619b5f-9dc4-4a32-9b4d-353a2b10853b",
   "metadata": {
    "tags": []
   },
   "outputs": [],
   "source": [
    "# Define the model\n",
    "# 53.75%\n",
    "model = Sequential()\n",
    "model.add(Masking())\n",
    "model.add(GRU(200, activation=\"tanh\", return_sequences=True))\n",
    "model.add(GRU(150, activation=\"tanh\", dropout=0.4, recurrent_dropout=0.4,\n",
    "              kernel_regularizer=regularizers.l2(0.015)))\n",
    "model.add(Dense(128, activation=\"relu\"))\n",
    "model.add(Dropout(0.4))\n",
    "model.add(Dense(64, activation=\"relu\"))\n",
    "# model.add(Dropout(0.2))\n",
    "model.add(Dense(7, activation=\"softmax\"))\n",
    "\n",
    "# Compile the model\n",
    "my_adam = Adam(learning_rate=0.003)\n",
    "model.compile(optimizer=my_adam, loss='categorical_crossentropy', metrics=['accuracy'])\n",
    "\n",
    "# Early stopping\n",
    "es = EarlyStopping(patience=5, restore_best_weights=True, monitor=\"val_accuracy\", mode=\"max\", verbose=1)"
   ]
  },
  {
   "cell_type": "code",
   "execution_count": 13,
   "id": "6f6108e5-0b6a-412b-9142-a440b71c3663",
   "metadata": {
    "tags": []
   },
   "outputs": [],
   "source": [
    "# Define the model\n",
    "# %\n",
    "model = Sequential()\n",
    "model.add(Masking())\n",
    "model.add(GRU(150, activation=\"tanh\", return_sequences=True))\n",
    "model.add(GRU(150, activation=\"tanh\", dropout=0.2,\n",
    "              kernel_regularizer=regularizers.l2(0.015)))\n",
    "model.add(Dense(75, activation=\"relu\"))\n",
    "model.add(Dropout(0.4))\n",
    "# model.add(Dense(64, activation=\"relu\"))\n",
    "# model.add(Dropout(0.2))\n",
    "model.add(Dense(7, activation=\"softmax\"))\n",
    "\n",
    "# Compile the model\n",
    "my_adam = Adam(learning_rate=0.0005)\n",
    "model.compile(optimizer=my_adam, loss='categorical_crossentropy', metrics=['accuracy'])\n",
    "\n",
    "# Early stopping\n",
    "es = EarlyStopping(patience=5, restore_best_weights=True, monitor=\"val_accuracy\", mode=\"max\", verbose=1)"
   ]
  },
  {
   "cell_type": "code",
   "execution_count": 14,
   "id": "53dddba6-c7c7-4c0d-a2aa-febc6ed41a2c",
   "metadata": {
    "tags": []
   },
   "outputs": [
    {
     "name": "stdout",
     "output_type": "stream",
     "text": [
      "Epoch 1/100\n",
      "140/140 [==============================] - 117s 786ms/step - loss: 3.5324 - accuracy: 0.1645 - val_loss: 2.5007 - val_accuracy: 0.2179\n",
      "Epoch 2/100\n",
      "140/140 [==============================] - 109s 781ms/step - loss: 2.1868 - accuracy: 0.2217 - val_loss: 1.9351 - val_accuracy: 0.2384\n",
      "Epoch 3/100\n",
      "140/140 [==============================] - 110s 789ms/step - loss: 1.9028 - accuracy: 0.2529 - val_loss: 1.7793 - val_accuracy: 0.2679\n",
      "Epoch 4/100\n",
      "140/140 [==============================] - 110s 788ms/step - loss: 1.7440 - accuracy: 0.2846 - val_loss: 1.9753 - val_accuracy: 0.2179\n",
      "Epoch 5/100\n",
      "140/140 [==============================] - 109s 781ms/step - loss: 1.7915 - accuracy: 0.2714 - val_loss: 1.5944 - val_accuracy: 0.3339\n",
      "Epoch 6/100\n",
      "140/140 [==============================] - 109s 782ms/step - loss: 1.6014 - accuracy: 0.3467 - val_loss: 1.5392 - val_accuracy: 0.3714\n",
      "Epoch 7/100\n",
      "140/140 [==============================] - 109s 776ms/step - loss: 1.4922 - accuracy: 0.3895 - val_loss: 1.4613 - val_accuracy: 0.3991\n",
      "Epoch 8/100\n",
      "140/140 [==============================] - 109s 777ms/step - loss: 1.4495 - accuracy: 0.4203 - val_loss: 1.4397 - val_accuracy: 0.4107\n",
      "Epoch 9/100\n",
      "140/140 [==============================] - 110s 788ms/step - loss: 1.4287 - accuracy: 0.4371 - val_loss: 1.4491 - val_accuracy: 0.4250\n",
      "Epoch 10/100\n",
      "140/140 [==============================] - 110s 785ms/step - loss: 1.4504 - accuracy: 0.4292 - val_loss: 1.5764 - val_accuracy: 0.3482\n",
      "Epoch 11/100\n",
      "140/140 [==============================] - 110s 786ms/step - loss: 1.4037 - accuracy: 0.4179 - val_loss: 1.3475 - val_accuracy: 0.4241\n",
      "Epoch 12/100\n",
      "140/140 [==============================] - 109s 780ms/step - loss: 1.2955 - accuracy: 0.4556 - val_loss: 1.2900 - val_accuracy: 0.4491\n",
      "Epoch 13/100\n",
      "140/140 [==============================] - 109s 776ms/step - loss: 1.2614 - accuracy: 0.4810 - val_loss: 1.2533 - val_accuracy: 0.4848\n",
      "Epoch 14/100\n",
      "140/140 [==============================] - 109s 776ms/step - loss: 1.2270 - accuracy: 0.4955 - val_loss: 1.2780 - val_accuracy: 0.4589\n",
      "Epoch 15/100\n",
      "140/140 [==============================] - 109s 781ms/step - loss: 1.2053 - accuracy: 0.4944 - val_loss: 1.2378 - val_accuracy: 0.4759\n",
      "Epoch 16/100\n",
      "140/140 [==============================] - 110s 784ms/step - loss: 1.1725 - accuracy: 0.5158 - val_loss: 1.2376 - val_accuracy: 0.4938\n",
      "Epoch 17/100\n",
      "140/140 [==============================] - 110s 789ms/step - loss: 1.1577 - accuracy: 0.5196 - val_loss: 1.2183 - val_accuracy: 0.5071\n",
      "Epoch 18/100\n",
      "140/140 [==============================] - 110s 788ms/step - loss: 1.1255 - accuracy: 0.5353 - val_loss: 1.2312 - val_accuracy: 0.5027\n",
      "Epoch 19/100\n",
      "140/140 [==============================] - 109s 782ms/step - loss: 1.1021 - accuracy: 0.5473 - val_loss: 1.2294 - val_accuracy: 0.5125\n",
      "Epoch 20/100\n",
      "140/140 [==============================] - 109s 782ms/step - loss: 1.0720 - accuracy: 0.5600 - val_loss: 1.2104 - val_accuracy: 0.5188\n",
      "Epoch 21/100\n",
      "140/140 [==============================] - 109s 782ms/step - loss: 1.0486 - accuracy: 0.5734 - val_loss: 1.2772 - val_accuracy: 0.5054\n",
      "Epoch 22/100\n",
      "140/140 [==============================] - 109s 781ms/step - loss: 1.0298 - accuracy: 0.5900 - val_loss: 1.2478 - val_accuracy: 0.5143\n",
      "Epoch 23/100\n",
      "140/140 [==============================] - 109s 781ms/step - loss: 0.9999 - accuracy: 0.5955 - val_loss: 1.2334 - val_accuracy: 0.5241\n",
      "Epoch 24/100\n",
      "140/140 [==============================] - 109s 777ms/step - loss: 0.9649 - accuracy: 0.6098 - val_loss: 1.2869 - val_accuracy: 0.5170\n",
      "Epoch 25/100\n",
      "140/140 [==============================] - 110s 787ms/step - loss: 0.9317 - accuracy: 0.6286 - val_loss: 1.2476 - val_accuracy: 0.5259\n",
      "Epoch 26/100\n",
      "140/140 [==============================] - 111s 791ms/step - loss: 0.9227 - accuracy: 0.6348 - val_loss: 1.3600 - val_accuracy: 0.5196\n",
      "Epoch 27/100\n",
      "140/140 [==============================] - 110s 789ms/step - loss: 0.8840 - accuracy: 0.6516 - val_loss: 1.3327 - val_accuracy: 0.5161\n",
      "Epoch 28/100\n",
      "140/140 [==============================] - 110s 787ms/step - loss: 0.8487 - accuracy: 0.6578 - val_loss: 1.3211 - val_accuracy: 0.5170\n",
      "Epoch 29/100\n",
      "140/140 [==============================] - 110s 783ms/step - loss: 0.8219 - accuracy: 0.6647 - val_loss: 1.3894 - val_accuracy: 0.5196\n",
      "Epoch 30/100\n",
      "140/140 [==============================] - ETA: 0s - loss: 0.7937 - accuracy: 0.6748Restoring model weights from the end of the best epoch: 25.\n",
      "140/140 [==============================] - 110s 783ms/step - loss: 0.7937 - accuracy: 0.6748 - val_loss: 1.4534 - val_accuracy: 0.5214\n",
      "Epoch 30: early stopping\n"
     ]
    }
   ],
   "source": [
    "# Train the model\n",
    "history = model.fit(\n",
    "    np.array(X_train_pad), np.array(y_train), epochs=100, batch_size=32, \n",
    "    validation_split=0.2, callbacks=[es], shuffle=True)"
   ]
  },
  {
   "cell_type": "code",
   "execution_count": 60,
   "id": "071d0efe-d3fe-4da3-8f8b-8849ece830ad",
   "metadata": {
    "tags": []
   },
   "outputs": [],
   "source": [
    "# # Evaluate the model\n",
    "# loss, accuracy = model.evaluate(X_test_pad, y_test)\n",
    "# print(f'Test Accuracy: {accuracy*100:.2f}%')"
   ]
  },
  {
   "cell_type": "code",
   "execution_count": 23,
   "id": "4b15d89e-06b8-458e-b470-ffc5442b3f2e",
   "metadata": {
    "tags": []
   },
   "outputs": [
    {
     "data": {
      "image/png": "[encoded data removed]",
      "text/plain": [
       "<Figure size 640x480 with 1 Axes>"
      ]
     },
     "metadata": {},
     "output_type": "display_data"
    }
   ],
   "source": [
    "import matplotlib.pyplot as plt\n",
    "\n",
    "def plot_learning_curve(history):\n",
    "    plt.plot(history.history['accuracy'], label='accuracy')\n",
    "    plt.plot(history.history['val_accuracy'], label='val_accuracy')\n",
    "    plt.xlabel('Epoch')\n",
    "    plt.ylabel('Accuracy')\n",
    "    plt.title('Model Learning Curve')\n",
    "    plt.legend(loc='lower right')\n",
    "    plt.show()\n",
    "\n",
    "plot_learning_curve(history)"
   ]
  },
  {
   "cell_type": "code",
   "execution_count": null,
   "id": "41d5d251-1610-489e-b7ff-1f309a36d8c8",
   "metadata": {},
   "outputs": [],
   "source": [
    "from polclassifier.ml_logic import %load_ext"
   ]
  }
 ],
 "metadata": {
  "environment": {
   "kernel": "python3",
   "name": "tf2-cpu.2-11.m120",
   "type": "gcloud",
   "uri": "us-docker.pkg.dev/deeplearning-platform-release/gcr.io/tf2-cpu.2-11:m120"
  },
  "kernelspec": {
   "display_name": "Python 3 (Local)",
   "language": "python",
   "name": "python3"
  },
  "language_info": {
   "codemirror_mode": {
    "name": "ipython",
    "version": 3
   },
   "file_extension": ".py",
   "mimetype": "text/x-python",
   "name": "python",
   "nbconvert_exporter": "python",
   "pygments_lexer": "ipython3",
   "version": "3.10.14"
  }
 },
 "nbformat": 4,
 "nbformat_minor": 5
}
