{
 "cells": [
  {
   "cell_type": "markdown",
   "id": "63b7190d-ca26-4c63-a83f-851422ce2488",
   "metadata": {},
   "source": [
    "# GRU model"
   ]
  },
  {
   "cell_type": "markdown",
   "id": "ea44ba32-5c58-4b99-983b-3ec26af16dac",
   "metadata": {},
   "source": [
    "## Setup"
   ]
  },
  {
   "cell_type": "code",
   "execution_count": null,
   "id": "93485f85-5771-4c8a-8be3-1187b53ca99d",
   "metadata": {
    "tags": []
   },
   "outputs": [],
   "source": [
    "# !pip install gensim"
   ]
  },
  {
   "cell_type": "code",
   "execution_count": null,
   "id": "e7924e3e-771a-4166-ba92-04901eff485c",
   "metadata": {
    "tags": []
   },
   "outputs": [],
   "source": [
    "# import nltk\n",
    "# nltk.download(\"stopwords\")"
   ]
  },
  {
   "cell_type": "code",
   "execution_count": 71,
   "id": "1446c46c-f4bb-4011-8ab7-9d849bd74a67",
   "metadata": {
    "tags": []
   },
   "outputs": [],
   "source": [
    "import pandas as pd\n",
    "import numpy as np\n",
    "\n",
    "from tensorflow.keras.preprocessing.sequence import pad_sequences\n",
    "\n",
    "from tensorflow.keras.layers import Masking, GRU, Dense, Dropout\n",
    "from tensorflow.keras.models import Sequential\n",
    "from tensorflow.keras.callbacks import EarlyStopping\n",
    "from tensorflow.keras import regularizers\n",
    "from tensorflow.keras.optimizers import Adam\n",
    "\n",
    "from sklearn.model_selection import train_test_split\n",
    "from sklearn.preprocessing import OneHotEncoder\n",
    "\n",
    "\n",
    "import gensim.downloader as api\n",
    "from nltk.corpus import stopwords"
   ]
  },
  {
   "cell_type": "code",
   "execution_count": 72,
   "id": "9139ebe0-d72a-4528-b210-6f4a921fc63d",
   "metadata": {
    "tags": []
   },
   "outputs": [],
   "source": [
    "X = pd.read_csv(\"../processed_data/features_1000sample_400min_600cutoff_for_embed.csv\")\n",
    "y = pd.read_csv(\"../processed_data/target_1000sample_400min_600cutoff_for_embed.csv\")"
   ]
  },
  {
   "cell_type": "code",
   "execution_count": 73,
   "id": "d5fcd2d6-6b37-48a9-ac2b-d6e6f61bb10a",
   "metadata": {
    "tags": []
   },
   "outputs": [],
   "source": [
    "codes = {p: i for i, p in enumerate(y[\"party\"].unique())}\n",
    "# y = y[\"party\"].map(codes)\n",
    "y = OneHotEncoder(sparse_output=False).fit_transform(y[\"party\"].values.reshape(-1, 1))\n",
    "X = X[\"text\"]"
   ]
  },
  {
   "cell_type": "code",
   "execution_count": 74,
   "id": "ad267388-22a4-493e-b939-7892d6cd3eee",
   "metadata": {
    "tags": []
   },
   "outputs": [
    {
     "data": {
      "text/plain": [
       "((7000,), (7000, 7))"
      ]
     },
     "execution_count": 74,
     "metadata": {},
     "output_type": "execute_result"
    }
   ],
   "source": [
    "X.shape, y.shape"
   ]
  },
  {
   "cell_type": "markdown",
   "id": "2e2cf940-35c4-4b2e-a938-1f9e1a22dfd5",
   "metadata": {},
   "source": [
    "## Preprocessing"
   ]
  },
  {
   "cell_type": "code",
   "execution_count": 76,
   "id": "80120b28-4fe3-466c-9de6-57eb11c77525",
   "metadata": {
    "tags": []
   },
   "outputs": [],
   "source": [
    "X_train, X_test, y_train, y_test = train_test_split(X, y, test_size=0.2, random_state=42, stratify=y)"
   ]
  },
  {
   "cell_type": "markdown",
   "id": "4865f4d5-da88-430d-b487-b011a71231e3",
   "metadata": {},
   "source": [
    "### Embed the training and test sentences"
   ]
  },
  {
   "cell_type": "code",
   "execution_count": 77,
   "id": "5529d597-b059-41b9-82e9-27fc625ad27a",
   "metadata": {
    "tags": []
   },
   "outputs": [],
   "source": [
    "stop_words = set(stopwords.words('english'))\n",
    "\n",
    "# Function to convert a sentence (list of words) into a matrix representing the words in the embedding space\n",
    "def embed_sentence_with_TF(word2vec, sentence):\n",
    "    embedded_sentence = []\n",
    "    for word in sentence:\n",
    "        if word in word2vec and word not in stop_words:\n",
    "            embedded_sentence.append(word2vec[word])\n",
    "        \n",
    "    return np.array(embedded_sentence)\n",
    "\n",
    "# Function that converts a list of sentences into a list of matrices\n",
    "def embedding(word2vec, sentences):\n",
    "    embed = []\n",
    "    \n",
    "    for sentence in sentences:\n",
    "        embedded_sentence = embed_sentence_with_TF(word2vec, sentence.split())\n",
    "        embed.append(embedded_sentence)\n",
    "        \n",
    "    return embed"
   ]
  },
  {
   "cell_type": "code",
   "execution_count": 78,
   "id": "cfcbfff7-7a89-4891-9f34-09a995fa96e1",
   "metadata": {
    "tags": []
   },
   "outputs": [],
   "source": [
    "word2vec_model = api.load(\"glove-wiki-gigaword-100\")"
   ]
  },
  {
   "cell_type": "code",
   "execution_count": 79,
   "id": "248f68ca-285f-4891-bcd1-c00f6ae8b896",
   "metadata": {
    "tags": []
   },
   "outputs": [],
   "source": [
    "X_train_embed = embedding(word2vec_model, X_train)\n",
    "X_test_embed = embedding(word2vec_model, X_test)"
   ]
  },
  {
   "cell_type": "markdown",
   "id": "b33e2f88-9491-4643-9c15-74791472bc7c",
   "metadata": {},
   "source": [
    "### Pad sequences to ensure uniform input size"
   ]
  },
  {
   "cell_type": "code",
   "execution_count": 80,
   "id": "980a9a10-ffc0-4022-9165-83878ff4ea1b",
   "metadata": {
    "tags": []
   },
   "outputs": [
    {
     "data": {
      "text/plain": [
       "407"
      ]
     },
     "execution_count": 80,
     "metadata": {},
     "output_type": "execute_result"
    }
   ],
   "source": [
    "maxlen = max(max([len(x) for x in X_train_embed]), max([len(x) for x in X_test_embed])) # Maximum sequence length\n",
    "maxlen"
   ]
  },
  {
   "cell_type": "code",
   "execution_count": 81,
   "id": "b33c4ab9-e5dc-4668-9287-9a0c81507df4",
   "metadata": {
    "tags": []
   },
   "outputs": [],
   "source": [
    "X_train_pad = pad_sequences(X_train_embed, dtype='float32', padding='post', maxlen=maxlen)\n",
    "X_test_pad = pad_sequences(X_test_embed, dtype='float32', padding='post', maxlen=maxlen)"
   ]
  },
  {
   "cell_type": "markdown",
   "id": "5bb3dbfc-a723-4e60-bf61-564f2b46fbe2",
   "metadata": {
    "tags": []
   },
   "source": [
    "## The model"
   ]
  },
  {
   "cell_type": "code",
   "execution_count": 24,
   "id": "8b275137-b08c-4930-a237-cb32e6db3084",
   "metadata": {
    "tags": []
   },
   "outputs": [],
   "source": [
    "# # Convert words to Word2Vec embeddings\n",
    "# word_index = tokenizer.word_index\n",
    "# embedding_matrix = np.zeros((len(word_index) + 1, 300))  # Assuming Word2Vec vectors are 300-dimensional\n",
    "\n",
    "# for word, i in word_index.items():\n",
    "#     if word in word2vec_model:\n",
    "#         embedding_matrix[i] = word2vec_model[word]\n",
    "\n",
    "# # Define the model\n",
    "# embedding_layer = tf.keras.layers.Embedding(len(word_index) + 1,\n",
    "#                                             300,  # Assuming Word2Vec vectors are 300-dimensional\n",
    "#                                             weights=[embedding_matrix],\n",
    "#                                             input_length=maxlen,\n",
    "#                                             trainable=False)  # Freeze the embedding layer"
   ]
  },
  {
   "cell_type": "code",
   "execution_count": 11,
   "id": "22680562-6fc4-4925-9843-e78226998b93",
   "metadata": {
    "tags": []
   },
   "outputs": [],
   "source": [
    "# # Define the model\n",
    "# # 51.14%\n",
    "# model = Sequential()\n",
    "# model.add(Masking())\n",
    "# model.add(GRU(128, activation=\"tanh\", return_sequences=True))\n",
    "# model.add(GRU(128, activation=\"tanh\", dropout=0.2, recurrent_dropout=0.4,\n",
    "#               kernel_regularizer=regularizers.l2(0.01)))\n",
    "# model.add(Dense(64, activation=\"relu\"))\n",
    "# model.add(Dropout(0.4))\n",
    "# model.add(Dense(7, activation=\"softmax\"))\n",
    "\n",
    "# # Compile the model\n",
    "# my_adam = Adam(learning_rate=0.003)\n",
    "# model.compile(optimizer=my_adam, loss='categorical_crossentropy', metrics=['accuracy'])\n",
    "\n",
    "# # Early stopping\n",
    "# es = EarlyStopping(patience=5, restore_best_weights=True, monitor=\"val_accuracy\", mode=\"max\", verbose=1)"
   ]
  },
  {
   "cell_type": "code",
   "execution_count": 13,
   "id": "928ec721-d1d1-446a-91ce-57914ebab10e",
   "metadata": {
    "tags": []
   },
   "outputs": [],
   "source": [
    "# # Define the model\n",
    "# # 53.12%\n",
    "# model = Sequential()\n",
    "# model.add(Masking())\n",
    "# model.add(GRU(128, activation=\"tanh\", dropout=0.2, return_sequences=True))\n",
    "# model.add(GRU(128, activation=\"tanh\", dropout=0.2, recurrent_dropout=0.4,\n",
    "#               kernel_regularizer=regularizers.l2(0.01)))\n",
    "# model.add(Dense(64, activation=\"relu\"))\n",
    "# model.add(Dropout(0.4))\n",
    "# model.add(Dense(7, activation=\"softmax\"))\n",
    "\n",
    "# # Compile the model\n",
    "# my_adam = Adam(learning_rate=0.003)\n",
    "# model.compile(optimizer=my_adam, loss='categorical_crossentropy', metrics=['accuracy'])\n",
    "\n",
    "# # Early stopping\n",
    "# es = EarlyStopping(patience=5, restore_best_weights=True, monitor=\"val_accuracy\", mode=\"max\", verbose=1)"
   ]
  },
  {
   "cell_type": "code",
   "execution_count": 14,
   "id": "b32c88fa-8ee5-4c6a-a73e-1397c24e1b21",
   "metadata": {
    "tags": []
   },
   "outputs": [],
   "source": [
    "# # Define the model\n",
    "# # 52.41%\n",
    "# model = Sequential()\n",
    "# model.add(Masking())\n",
    "# model.add(GRU(128, activation=\"tanh\", return_sequences=True))\n",
    "# model.add(GRU(128, activation=\"tanh\", dropout=0.2, recurrent_dropout=0.4,\n",
    "#               kernel_regularizer=regularizers.l2(0.01)))\n",
    "# model.add(Dense(64, activation=\"relu\"))\n",
    "# model.add(Dropout(0.4))\n",
    "# model.add(Dense(7, activation=\"softmax\"))\n",
    "\n",
    "# # Compile the model\n",
    "# my_adam = Adam(learning_rate=0.003)\n",
    "# model.compile(optimizer=my_adam, loss='categorical_crossentropy', metrics=['accuracy'])\n",
    "\n",
    "# # Early stopping\n",
    "# es = EarlyStopping(patience=15, restore_best_weights=True, monitor=\"val_accuracy\", mode=\"max\", verbose=1)"
   ]
  },
  {
   "cell_type": "code",
   "execution_count": 16,
   "id": "4e994afb-9585-4063-9f7a-464f4307330f",
   "metadata": {
    "tags": []
   },
   "outputs": [],
   "source": [
    "# # Define the model\n",
    "# # 52.95%\n",
    "# model = Sequential()\n",
    "# model.add(Masking())\n",
    "# model.add(GRU(200, activation=\"tanh\", return_sequences=True))\n",
    "# model.add(GRU(200, activation=\"tanh\", dropout=0.2, recurrent_dropout=0.4,\n",
    "#               kernel_regularizer=regularizers.l2(0.01)))\n",
    "# model.add(Dense(128, activation=\"relu\"))\n",
    "# model.add(Dropout(0.4))\n",
    "# model.add(Dense(64, activation=\"relu\"))\n",
    "# # model.add(Dropout(0.2))\n",
    "# model.add(Dense(7, activation=\"softmax\"))\n",
    "\n",
    "# # Compile the model\n",
    "# my_adam = Adam(learning_rate=0.003)\n",
    "# model.compile(optimizer=my_adam, loss='categorical_crossentropy', metrics=['accuracy'])\n",
    "\n",
    "# # Early stopping\n",
    "# es = EarlyStopping(patience=5, restore_best_weights=True, monitor=\"val_accuracy\", mode=\"max\", verbose=1)"
   ]
  },
  {
   "cell_type": "code",
   "execution_count": 14,
   "id": "5c619b5f-9dc4-4a32-9b4d-353a2b10853b",
   "metadata": {
    "tags": []
   },
   "outputs": [],
   "source": [
    "# # Define the model\n",
    "# # 53.75%\n",
    "# model = Sequential()\n",
    "# model.add(Masking())\n",
    "# model.add(GRU(200, activation=\"tanh\", return_sequences=True))\n",
    "# model.add(GRU(150, activation=\"tanh\", dropout=0.4, recurrent_dropout=0.4,\n",
    "#               kernel_regularizer=regularizers.l2(0.015)))\n",
    "# model.add(Dense(128, activation=\"relu\"))\n",
    "# model.add(Dropout(0.4))\n",
    "# model.add(Dense(64, activation=\"relu\"))\n",
    "# # model.add(Dropout(0.2))\n",
    "# model.add(Dense(7, activation=\"softmax\"))\n",
    "\n",
    "# # Compile the model\n",
    "# my_adam = Adam(learning_rate=0.003)\n",
    "# model.compile(optimizer=my_adam, loss='categorical_crossentropy', metrics=['accuracy'])\n",
    "\n",
    "# # Early stopping\n",
    "# es = EarlyStopping(patience=5, restore_best_weights=True, monitor=\"val_accuracy\", mode=\"max\", verbose=1)"
   ]
  },
  {
   "cell_type": "code",
   "execution_count": 107,
   "id": "6f6108e5-0b6a-412b-9142-a440b71c3663",
   "metadata": {
    "tags": []
   },
   "outputs": [],
   "source": [
    "# Define the model\n",
    "# 53.57%\n",
    "model = Sequential()\n",
    "model.add(Masking())\n",
    "model.add(GRU(200, activation=\"tanh\", return_sequences=True))\n",
    "model.add(GRU(150, activation=\"tanh\", dropout=0.2,\n",
    "              kernel_regularizer=regularizers.l2(0.015)))\n",
    "model.add(Dense(128, activation=\"relu\"))\n",
    "model.add(Dropout(0.4))\n",
    "model.add(Dense(64, activation=\"relu\"))\n",
    "model.add(Dropout(0.2))\n",
    "model.add(Dense(7, activation=\"softmax\"))\n",
    "\n",
    "# Compile the model\n",
    "my_adam = Adam(learning_rate=0.0005)\n",
    "model.compile(optimizer=my_adam, loss='categorical_crossentropy', metrics=['accuracy'])\n",
    "\n",
    "# Early stopping\n",
    "es = EarlyStopping(patience=15, restore_best_weights=True, monitor=\"val_accuracy\", mode=\"max\", verbose=1)"
   ]
  },
  {
   "cell_type": "code",
   "execution_count": 108,
   "id": "53dddba6-c7c7-4c0d-a2aa-febc6ed41a2c",
   "metadata": {
    "tags": []
   },
   "outputs": [
    {
     "name": "stdout",
     "output_type": "stream",
     "text": [
      "Epoch 1/100\n",
      "140/140 [==============================] - 73s 481ms/step - loss: 3.7733 - accuracy: 0.1538 - val_loss: 2.4835 - val_accuracy: 0.2179\n",
      "Epoch 2/100\n",
      "140/140 [==============================] - 66s 472ms/step - loss: 2.1476 - accuracy: 0.1920 - val_loss: 1.9627 - val_accuracy: 0.1920\n",
      "Epoch 3/100\n",
      "140/140 [==============================] - 66s 472ms/step - loss: 1.8689 - accuracy: 0.2317 - val_loss: 1.6816 - val_accuracy: 0.2893\n",
      "Epoch 4/100\n",
      "140/140 [==============================] - 66s 473ms/step - loss: 1.7336 - accuracy: 0.2672 - val_loss: 1.6236 - val_accuracy: 0.2893\n",
      "Epoch 5/100\n",
      "140/140 [==============================] - 66s 471ms/step - loss: 1.6546 - accuracy: 0.2871 - val_loss: 1.5458 - val_accuracy: 0.3286\n",
      "Epoch 6/100\n",
      "140/140 [==============================] - 66s 470ms/step - loss: 1.5875 - accuracy: 0.3127 - val_loss: 1.4930 - val_accuracy: 0.3679\n",
      "Epoch 7/100\n",
      "140/140 [==============================] - 65s 468ms/step - loss: 1.4787 - accuracy: 0.3844 - val_loss: 1.4608 - val_accuracy: 0.4054\n",
      "Epoch 8/100\n",
      "140/140 [==============================] - 66s 469ms/step - loss: 1.4274 - accuracy: 0.4239 - val_loss: 1.4299 - val_accuracy: 0.4161\n",
      "Epoch 9/100\n",
      "140/140 [==============================] - 66s 470ms/step - loss: 1.3366 - accuracy: 0.4500 - val_loss: 1.3220 - val_accuracy: 0.4491\n",
      "Epoch 10/100\n",
      "140/140 [==============================] - 66s 470ms/step - loss: 1.2830 - accuracy: 0.4779 - val_loss: 1.3157 - val_accuracy: 0.4607\n",
      "Epoch 11/100\n",
      "140/140 [==============================] - 66s 471ms/step - loss: 1.2417 - accuracy: 0.4978 - val_loss: 1.2750 - val_accuracy: 0.4696\n",
      "Epoch 12/100\n",
      "140/140 [==============================] - 66s 470ms/step - loss: 1.2095 - accuracy: 0.5060 - val_loss: 1.2486 - val_accuracy: 0.4929\n",
      "Epoch 13/100\n",
      "140/140 [==============================] - 66s 471ms/step - loss: 1.1724 - accuracy: 0.5181 - val_loss: 1.2612 - val_accuracy: 0.4696\n",
      "Epoch 14/100\n",
      "140/140 [==============================] - 65s 468ms/step - loss: 1.1630 - accuracy: 0.5355 - val_loss: 1.2649 - val_accuracy: 0.4955\n",
      "Epoch 15/100\n",
      "140/140 [==============================] - 65s 467ms/step - loss: 1.1419 - accuracy: 0.5342 - val_loss: 1.2585 - val_accuracy: 0.5071\n",
      "Epoch 16/100\n",
      "140/140 [==============================] - 66s 472ms/step - loss: 1.0925 - accuracy: 0.5589 - val_loss: 1.2306 - val_accuracy: 0.5080\n",
      "Epoch 17/100\n",
      "140/140 [==============================] - 66s 471ms/step - loss: 1.0628 - accuracy: 0.5625 - val_loss: 1.2942 - val_accuracy: 0.4705\n",
      "Epoch 18/100\n",
      "140/140 [==============================] - 66s 468ms/step - loss: 1.0202 - accuracy: 0.5795 - val_loss: 1.2946 - val_accuracy: 0.4973\n",
      "Epoch 19/100\n",
      "140/140 [==============================] - 66s 472ms/step - loss: 1.0311 - accuracy: 0.5757 - val_loss: 1.3031 - val_accuracy: 0.4884\n",
      "Epoch 20/100\n",
      "140/140 [==============================] - 66s 471ms/step - loss: 0.9856 - accuracy: 0.5933 - val_loss: 1.3460 - val_accuracy: 0.4759\n",
      "Epoch 21/100\n",
      "140/140 [==============================] - 66s 471ms/step - loss: 0.9232 - accuracy: 0.6210 - val_loss: 1.2958 - val_accuracy: 0.5036\n",
      "Epoch 22/100\n",
      "140/140 [==============================] - 66s 468ms/step - loss: 0.9005 - accuracy: 0.6248 - val_loss: 1.3900 - val_accuracy: 0.4839\n",
      "Epoch 23/100\n",
      "140/140 [==============================] - 66s 468ms/step - loss: 0.8495 - accuracy: 0.6388 - val_loss: 1.3815 - val_accuracy: 0.4955\n",
      "Epoch 24/100\n",
      "140/140 [==============================] - 65s 467ms/step - loss: 0.8235 - accuracy: 0.6605 - val_loss: 1.4449 - val_accuracy: 0.4973\n",
      "Epoch 25/100\n",
      "140/140 [==============================] - 65s 468ms/step - loss: 0.8330 - accuracy: 0.6605 - val_loss: 1.4772 - val_accuracy: 0.4929\n",
      "Epoch 26/100\n",
      "140/140 [==============================] - 65s 467ms/step - loss: 0.7486 - accuracy: 0.6812 - val_loss: 1.5127 - val_accuracy: 0.5080\n",
      "Epoch 27/100\n",
      "140/140 [==============================] - 66s 468ms/step - loss: 0.7111 - accuracy: 0.6991 - val_loss: 1.5916 - val_accuracy: 0.4893\n",
      "Epoch 28/100\n",
      "140/140 [==============================] - 65s 468ms/step - loss: 0.6746 - accuracy: 0.7092 - val_loss: 1.8048 - val_accuracy: 0.4848\n",
      "Epoch 29/100\n",
      "140/140 [==============================] - 66s 469ms/step - loss: 0.6709 - accuracy: 0.7125 - val_loss: 1.8017 - val_accuracy: 0.4848\n",
      "Epoch 30/100\n",
      "140/140 [==============================] - 66s 473ms/step - loss: 0.6255 - accuracy: 0.7348 - val_loss: 1.7526 - val_accuracy: 0.4866\n",
      "Epoch 31/100\n",
      "140/140 [==============================] - ETA: 0s - loss: 0.6091 - accuracy: 0.7377Restoring model weights from the end of the best epoch: 16.\n",
      "140/140 [==============================] - 65s 468ms/step - loss: 0.6091 - accuracy: 0.7377 - val_loss: 1.9065 - val_accuracy: 0.4938\n",
      "Epoch 31: early stopping\n"
     ]
    }
   ],
   "source": [
    "# Train the model\n",
    "history = model.fit(\n",
    "    np.array(X_train_pad), np.array(y_train), epochs=100, batch_size=32, \n",
    "    validation_split=0.2, callbacks=[es], shuffle=True)"
   ]
  },
  {
   "cell_type": "code",
   "execution_count": 109,
   "id": "071d0efe-d3fe-4da3-8f8b-8849ece830ad",
   "metadata": {
    "tags": []
   },
   "outputs": [
    {
     "name": "stdout",
     "output_type": "stream",
     "text": [
      "44/44 [==============================] - 10s 158ms/step - loss: 1.2106 - accuracy: 0.5171\n",
      "Test Accuracy: 51.71%\n"
     ]
    }
   ],
   "source": [
    "# Evaluate the model\n",
    "loss, accuracy = model.evaluate(X_test_pad, y_test)\n",
    "print(f'Test Accuracy: {accuracy*100:.2f}%')"
   ]
  },
  {
   "cell_type": "code",
   "execution_count": 110,
   "id": "4b15d89e-06b8-458e-b470-ffc5442b3f2e",
   "metadata": {
    "tags": []
   },
   "outputs": [
    {
     "data": {
      "image/png": "[encoded data removed]",
      "text/plain": [
       "<Figure size 640x480 with 1 Axes>"
      ]
     },
     "metadata": {},
     "output_type": "display_data"
    }
   ],
   "source": [
    "import matplotlib.pyplot as plt\n",
    "\n",
    "def plot_learning_curve(history):\n",
    "    plt.plot(history.history['accuracy'], label='accuracy')\n",
    "    plt.plot(history.history['val_accuracy'], label='val_accuracy')\n",
    "    plt.xlabel('Epoch')\n",
    "    plt.ylabel('Accuracy')\n",
    "    plt.title('Model Learning Curve')\n",
    "    plt.legend(loc='lower right')\n",
    "    plt.show()\n",
    "\n",
    "plot_learning_curve(history)"
   ]
  },
  {
   "cell_type": "code",
   "execution_count": 105,
   "id": "b4c56e35-3b21-48fb-b471-2588949a36b3",
   "metadata": {
    "tags": []
   },
   "outputs": [],
   "source": [
    "# !pip install -e .."
   ]
  },
  {
   "cell_type": "code",
   "execution_count": 111,
   "id": "41d5d251-1610-489e-b7ff-1f309a36d8c8",
   "metadata": {},
   "outputs": [
    {
     "name": "stdout",
     "output_type": "stream",
     "text": [
      "✅ Model saved locally\n"
     ]
    }
   ],
   "source": [
    "from polclassifier.ml_logic.registry import save_model_keras\n",
    "\n",
    "from sklearn.metrics import confusion_matrix\n",
    "from tensorflow.keras.utils import to_categorical\n",
    "\n",
    "import numpy as np\n",
    "import seaborn as sns\n",
    "import matplotlib.pyplot as plt\n",
    "\n",
    "save_model_keras(model)"
   ]
  },
  {
   "cell_type": "code",
   "execution_count": 112,
   "id": "ab5f0c81-5d6f-4761-a963-a62e68fdf309",
   "metadata": {},
   "outputs": [
    {
     "name": "stdout",
     "output_type": "stream",
     "text": [
      "44/44 [==============================] - 9s 159ms/step\n"
     ]
    }
   ],
   "source": [
    "y_pred = to_categorical(np.argmax(model.predict(X_test_pad), axis=1), 7)\n",
    "\n",
    "# Calculate confusion matrix\n",
    "cm = confusion_matrix(y_test.argmax(axis=1), y_pred.argmax(axis=1))"
   ]
  },
  {
   "cell_type": "code",
   "execution_count": 113,
   "id": "b3fbe2a1-a7c5-4c72-a16d-b75c6364b503",
   "metadata": {
    "tags": []
   },
   "outputs": [
    {
     "data": {
      "image/png": "[encoded data removed]",
      "text/plain": [
       "<Figure size 800x600 with 2 Axes>"
      ]
     },
     "metadata": {},
     "output_type": "display_data"
    }
   ],
   "source": [
    "# Plot confusion matrix\n",
    "plt.figure(figsize=(8, 6))\n",
    "sns.heatmap(cm, annot=True, fmt='d', cmap='Blues', xticklabels=codes.keys(), yticklabels=codes.keys())\n",
    "plt.xlabel('Predicted labels')\n",
    "plt.ylabel('True labels')\n",
    "plt.title('Confusion Matrix')\n",
    "plt.show()"
   ]
  },
  {
   "cell_type": "code",
   "execution_count": 114,
   "id": "4ce3dd7b-441d-43ef-8142-d62d96e68e29",
   "metadata": {
    "tags": []
   },
   "outputs": [
    {
     "data": {
      "text/plain": [
       "{'Con': 0,\n",
       " 'DUP': 1,\n",
       " 'Lab': 2,\n",
       " 'LibDem': 3,\n",
       " 'PlaidCymru': 4,\n",
       " 'SNP': 5,\n",
       " 'UUP': 6}"
      ]
     },
     "execution_count": 114,
     "metadata": {},
     "output_type": "execute_result"
    }
   ],
   "source": [
    "codes"
   ]
  },
  {
   "cell_type": "code",
   "execution_count": 115,
   "id": "3022588b-bc22-4c07-ac20-4a3dd83a0640",
   "metadata": {
    "tags": []
   },
   "outputs": [
    {
     "data": {
      "text/plain": [
       "0    200\n",
       "1    200\n",
       "2    200\n",
       "3    200\n",
       "4    200\n",
       "5    200\n",
       "6    200\n",
       "Name: count, dtype: int64"
      ]
     },
     "execution_count": 115,
     "metadata": {},
     "output_type": "execute_result"
    }
   ],
   "source": [
    "pd.Series(y_test.argmax(axis=1)).value_counts().sort_index()"
   ]
  },
  {
   "cell_type": "code",
   "execution_count": 116,
   "id": "76f08bf4-3dd5-4c21-93fd-43279d349b1e",
   "metadata": {
    "tags": []
   },
   "outputs": [
    {
     "data": {
      "text/plain": [
       "0    165\n",
       "1    195\n",
       "2     55\n",
       "3    279\n",
       "4    283\n",
       "5    224\n",
       "6    199\n",
       "Name: count, dtype: int64"
      ]
     },
     "execution_count": 116,
     "metadata": {},
     "output_type": "execute_result"
    }
   ],
   "source": [
    "pd.Series(y_pred.argmax(axis=1)).value_counts().sort_index()"
   ]
  },
  {
   "cell_type": "code",
   "execution_count": null,
   "id": "2df75e90-60d0-42e6-b6f7-1b31ca54cf63",
   "metadata": {},
   "outputs": [],
   "source": []
  }
 ],
 "metadata": {
  "environment": {
   "kernel": "python3",
   "name": "tf2-cpu.2-11.m120",
   "type": "gcloud",
   "uri": "us-docker.pkg.dev/deeplearning-platform-release/gcr.io/tf2-cpu.2-11:m120"
  },
  "kernelspec": {
   "display_name": "Python 3 (Local)",
   "language": "python",
   "name": "python3"
  },
  "language_info": {
   "codemirror_mode": {
    "name": "ipython",
    "version": 3
   },
   "file_extension": ".py",
   "mimetype": "text/x-python",
   "name": "python",
   "nbconvert_exporter": "python",
   "pygments_lexer": "ipython3",
   "version": "3.10.14"
  }
 },
 "nbformat": 4,
 "nbformat_minor": 5
}
