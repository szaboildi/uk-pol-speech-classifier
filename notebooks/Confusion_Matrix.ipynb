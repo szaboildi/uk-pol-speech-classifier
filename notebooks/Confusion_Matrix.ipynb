{
 "cells": [
  {
   "cell_type": "markdown",
   "id": "a2afdf1e-df25-4b60-841e-ce1752f95476",
   "metadata": {},
   "source": [
    "# Confusion Matrices"
   ]
  },
  {
   "cell_type": "code",
   "execution_count": 12,
   "id": "333ae004",
   "metadata": {},
   "outputs": [
    {
     "name": "stderr",
     "output_type": "stream",
     "text": [
      "[nltk_data] Downloading package stopwords to\n",
      "[nltk_data]     /home/szaboildi/nltk_data...\n",
      "[nltk_data]   Package stopwords is already up-to-date!\n",
      "[nltk_data] Downloading package punkt to /home/szaboildi/nltk_data...\n",
      "[nltk_data]   Package punkt is already up-to-date!\n",
      "[nltk_data] Downloading package wordnet to\n",
      "[nltk_data]     /home/szaboildi/nltk_data...\n",
      "[nltk_data]   Package wordnet is already up-to-date!\n"
     ]
    },
    {
     "name": "stdout",
     "output_type": "stream",
     "text": [
      "Obtaining file:///home/szaboildi/code/szaboildi/uk-pol-speech-classifier\n",
      "  Preparing metadata (setup.py) ... \u001b[?25ldone\n",
      "\u001b[?25hRequirement already satisfied: colorama in /home/szaboildi/.pyenv/versions/3.10.6/envs/polclassifier/lib/python3.10/site-packages (from polclassifier==0.0.1) (0.4.6)\n",
      "Requirement already satisfied: nltk in /home/szaboildi/.pyenv/versions/3.10.6/envs/polclassifier/lib/python3.10/site-packages (from polclassifier==0.0.1) (3.8.1)\n",
      "Requirement already satisfied: pandas==2.2.2 in /home/szaboildi/.pyenv/versions/3.10.6/envs/polclassifier/lib/python3.10/site-packages (from polclassifier==0.0.1) (2.2.2)\n",
      "Requirement already satisfied: pyarrow==14.0.1 in /home/szaboildi/.pyenv/versions/3.10.6/envs/polclassifier/lib/python3.10/site-packages (from polclassifier==0.0.1) (14.0.1)\n",
      "Requirement already satisfied: scikit-learn==1.3.1 in /home/szaboildi/.pyenv/versions/3.10.6/envs/polclassifier/lib/python3.10/site-packages (from polclassifier==0.0.1) (1.3.1)\n",
      "Requirement already satisfied: numpy>=1.22.4 in /home/szaboildi/.pyenv/versions/3.10.6/envs/polclassifier/lib/python3.10/site-packages (from pandas==2.2.2->polclassifier==0.0.1) (1.26.4)\n",
      "Requirement already satisfied: python-dateutil>=2.8.2 in /home/szaboildi/.pyenv/versions/3.10.6/envs/polclassifier/lib/python3.10/site-packages (from pandas==2.2.2->polclassifier==0.0.1) (2.9.0.post0)\n",
      "Requirement already satisfied: pytz>=2020.1 in /home/szaboildi/.pyenv/versions/3.10.6/envs/polclassifier/lib/python3.10/site-packages (from pandas==2.2.2->polclassifier==0.0.1) (2024.1)\n",
      "Requirement already satisfied: tzdata>=2022.7 in /home/szaboildi/.pyenv/versions/3.10.6/envs/polclassifier/lib/python3.10/site-packages (from pandas==2.2.2->polclassifier==0.0.1) (2024.1)\n",
      "Requirement already satisfied: scipy>=1.5.0 in /home/szaboildi/.pyenv/versions/3.10.6/envs/polclassifier/lib/python3.10/site-packages (from scikit-learn==1.3.1->polclassifier==0.0.1) (1.13.0)\n",
      "Requirement already satisfied: joblib>=1.1.1 in /home/szaboildi/.pyenv/versions/3.10.6/envs/polclassifier/lib/python3.10/site-packages (from scikit-learn==1.3.1->polclassifier==0.0.1) (1.4.2)\n",
      "Requirement already satisfied: threadpoolctl>=2.0.0 in /home/szaboildi/.pyenv/versions/3.10.6/envs/polclassifier/lib/python3.10/site-packages (from scikit-learn==1.3.1->polclassifier==0.0.1) (3.5.0)\n",
      "Requirement already satisfied: click in /home/szaboildi/.pyenv/versions/3.10.6/envs/polclassifier/lib/python3.10/site-packages (from nltk->polclassifier==0.0.1) (8.1.7)\n",
      "Requirement already satisfied: regex>=2021.8.3 in /home/szaboildi/.pyenv/versions/3.10.6/envs/polclassifier/lib/python3.10/site-packages (from nltk->polclassifier==0.0.1) (2024.4.28)\n",
      "Requirement already satisfied: tqdm in /home/szaboildi/.pyenv/versions/3.10.6/envs/polclassifier/lib/python3.10/site-packages (from nltk->polclassifier==0.0.1) (4.66.4)\n",
      "Requirement already satisfied: six>=1.5 in /home/szaboildi/.pyenv/versions/3.10.6/envs/polclassifier/lib/python3.10/site-packages (from python-dateutil>=2.8.2->pandas==2.2.2->polclassifier==0.0.1) (1.16.0)\n",
      "Installing collected packages: polclassifier\n",
      "  Attempting uninstall: polclassifier\n",
      "    Found existing installation: polclassifier 0.0.1\n",
      "    Uninstalling polclassifier-0.0.1:\n",
      "      Successfully uninstalled polclassifier-0.0.1\n",
      "  Running setup.py develop for polclassifier\n",
      "Successfully installed polclassifier-0.0.1\n"
     ]
    }
   ],
   "source": [
    "!pip install -e .."
   ]
  },
  {
   "cell_type": "code",
   "execution_count": 13,
   "id": "bce09fe3",
   "metadata": {},
   "outputs": [
    {
     "name": "stdout",
     "output_type": "stream",
     "text": [
      "The autoreload extension is already loaded. To reload it, use:\n",
      "  %reload_ext autoreload\n"
     ]
    }
   ],
   "source": [
    "%load_ext autoreload\n",
    "%autoreload 2"
   ]
  },
  {
   "cell_type": "code",
   "execution_count": 17,
   "id": "9cae0fb8",
   "metadata": {},
   "outputs": [],
   "source": [
    "from polclassifier.utils import plot_confusion_matrix\n",
    "from polclassifier.interface.main import train_evaluate_model_svm"
   ]
  },
  {
   "cell_type": "markdown",
   "id": "99dd85c1-fb66-4326-beab-81b9be8c2bc7",
   "metadata": {},
   "source": [
    "## Logistic Regression"
   ]
  },
  {
   "cell_type": "code",
   "execution_count": null,
   "id": "074215e3-f5cd-44ed-837d-1d2d06c900cb",
   "metadata": {},
   "outputs": [],
   "source": [
    "# load model\n",
    "# load data\n",
    "# visualize"
   ]
  },
  {
   "cell_type": "markdown",
   "id": "8047243a-21bb-4972-b67f-799442528ac5",
   "metadata": {},
   "source": [
    "## KNN"
   ]
  },
  {
   "cell_type": "code",
   "execution_count": null,
   "id": "70e34a46-804e-478b-bf20-cc4b903545db",
   "metadata": {},
   "outputs": [],
   "source": [
    "# load model\n",
    "# load data\n",
    "# visualize"
   ]
  },
  {
   "cell_type": "markdown",
   "id": "2758f4e3-e21c-4410-a2f4-332375dcab7c",
   "metadata": {},
   "source": [
    "## Support Vector Machines"
   ]
  },
  {
   "cell_type": "code",
   "execution_count": 18,
   "id": "c90e5c77-74e6-4ae2-8023-37edec0861dd",
   "metadata": {},
   "outputs": [
    {
     "name": "stdout",
     "output_type": "stream",
     "text": [
      "\u001b[35m\n",
      "⭐️ Use case: train\u001b[0m\n",
      "\u001b[34m\n",
      "Loading preprocessed validation data...\u001b[0m\n",
      "\u001b[35m\n",
      " ⭐️ Use case: preprocess\u001b[0m\n"
     ]
    },
    {
     "ename": "KeyboardInterrupt",
     "evalue": "",
     "output_type": "error",
     "traceback": [
      "\u001b[0;31m---------------------------------------------------------------------------\u001b[0m",
      "\u001b[0;31mKeyboardInterrupt\u001b[0m                         Traceback (most recent call last)",
      "Cell \u001b[0;32mIn[18], line 2\u001b[0m\n\u001b[1;32m      1\u001b[0m \u001b[38;5;66;03m# load model\u001b[39;00m\n\u001b[0;32m----> 2\u001b[0m acc \u001b[38;5;241m=\u001b[39m \u001b[43mtrain_evaluate_model_svm\u001b[49m\u001b[43m(\u001b[49m\u001b[43m)\u001b[49m\n\u001b[1;32m      3\u001b[0m \u001b[38;5;66;03m# model = None\u001b[39;00m\n\u001b[1;32m      4\u001b[0m \n\u001b[1;32m      5\u001b[0m \u001b[38;5;66;03m# # load data and visualize\u001b[39;00m\n\u001b[1;32m      6\u001b[0m \u001b[38;5;66;03m# plot_confusion_matrix(model)\u001b[39;00m\n",
      "File \u001b[0;32m~/code/szaboildi/uk-pol-speech-classifier/polclassifier/interface/main.py:64\u001b[0m, in \u001b[0;36mtrain_evaluate_model_svm\u001b[0;34m(split_ratio, perform_search)\u001b[0m\n\u001b[1;32m      0\u001b[0m <Error retrieving source code with stack_data see ipython/ipython#13598>\n",
      "File \u001b[0;32m~/code/szaboildi/uk-pol-speech-classifier/polclassifier/interface/main.py:36\u001b[0m, in \u001b[0;36mpreprocess\u001b[0;34m(reprocess_by_default)\u001b[0m\n\u001b[1;32m     33\u001b[0m \u001b[38;5;28;01mif\u001b[39;00m \u001b[38;5;129;01mnot\u001b[39;00m os\u001b[38;5;241m.\u001b[39mpath\u001b[38;5;241m.\u001b[39misdir(os\u001b[38;5;241m.\u001b[39mpath\u001b[38;5;241m.\u001b[39mjoin(LOCAL_PATH, \u001b[38;5;124m\"\u001b[39m\u001b[38;5;124mprocessed_data\u001b[39m\u001b[38;5;124m\"\u001b[39m)):\n\u001b[1;32m     34\u001b[0m     os\u001b[38;5;241m.\u001b[39mmkdir(os\u001b[38;5;241m.\u001b[39mpath\u001b[38;5;241m.\u001b[39mjoin(LOCAL_PATH, \u001b[38;5;124m\"\u001b[39m\u001b[38;5;124mprocessed_data\u001b[39m\u001b[38;5;124m\"\u001b[39m))\n\u001b[0;32m---> 36\u001b[0m raw_data_path \u001b[38;5;241m=\u001b[39m os\u001b[38;5;241m.\u001b[39mpath\u001b[38;5;241m.\u001b[39mjoin(\n\u001b[1;32m     37\u001b[0m     LOCAL_PATH, \u001b[38;5;124m\"\u001b[39m\u001b[38;5;124mraw_data\u001b[39m\u001b[38;5;124m\"\u001b[39m, \u001b[38;5;124m\"\u001b[39m\u001b[38;5;124mCorp_HouseOfCommons_V2.feather\u001b[39m\u001b[38;5;124m\"\u001b[39m)\n\u001b[1;32m     38\u001b[0m data \u001b[38;5;241m=\u001b[39m pd\u001b[38;5;241m.\u001b[39mread_feather(raw_data_path)\n\u001b[1;32m     40\u001b[0m \u001b[38;5;28mprint\u001b[39m(\u001b[38;5;124m\"\u001b[39m\u001b[38;5;124m✅ Raw dataset loaded in \u001b[39m\u001b[38;5;130;01m\\n\u001b[39;00m\u001b[38;5;124m\"\u001b[39m)\n",
      "File \u001b[0;32m~/.pyenv/versions/3.10.6/envs/polclassifier/lib/python3.10/site-packages/pandas/io/feather_format.py:124\u001b[0m, in \u001b[0;36mread_feather\u001b[0;34m(path, columns, use_threads, storage_options, dtype_backend)\u001b[0m\n\u001b[1;32m    120\u001b[0m \u001b[38;5;28;01mwith\u001b[39;00m get_handle(\n\u001b[1;32m    121\u001b[0m     path, \u001b[38;5;124m\"\u001b[39m\u001b[38;5;124mrb\u001b[39m\u001b[38;5;124m\"\u001b[39m, storage_options\u001b[38;5;241m=\u001b[39mstorage_options, is_text\u001b[38;5;241m=\u001b[39m\u001b[38;5;28;01mFalse\u001b[39;00m\n\u001b[1;32m    122\u001b[0m ) \u001b[38;5;28;01mas\u001b[39;00m handles:\n\u001b[1;32m    123\u001b[0m     \u001b[38;5;28;01mif\u001b[39;00m dtype_backend \u001b[38;5;129;01mis\u001b[39;00m lib\u001b[38;5;241m.\u001b[39mno_default \u001b[38;5;129;01mand\u001b[39;00m \u001b[38;5;129;01mnot\u001b[39;00m using_pyarrow_string_dtype():\n\u001b[0;32m--> 124\u001b[0m         \u001b[38;5;28;01mreturn\u001b[39;00m \u001b[43mfeather\u001b[49m\u001b[38;5;241;43m.\u001b[39;49m\u001b[43mread_feather\u001b[49m\u001b[43m(\u001b[49m\n\u001b[1;32m    125\u001b[0m \u001b[43m            \u001b[49m\u001b[43mhandles\u001b[49m\u001b[38;5;241;43m.\u001b[39;49m\u001b[43mhandle\u001b[49m\u001b[43m,\u001b[49m\u001b[43m \u001b[49m\u001b[43mcolumns\u001b[49m\u001b[38;5;241;43m=\u001b[39;49m\u001b[43mcolumns\u001b[49m\u001b[43m,\u001b[49m\u001b[43m \u001b[49m\u001b[43muse_threads\u001b[49m\u001b[38;5;241;43m=\u001b[39;49m\u001b[38;5;28;43mbool\u001b[39;49m\u001b[43m(\u001b[49m\u001b[43muse_threads\u001b[49m\u001b[43m)\u001b[49m\n\u001b[1;32m    126\u001b[0m \u001b[43m        \u001b[49m\u001b[43m)\u001b[49m\n\u001b[1;32m    128\u001b[0m     pa_table \u001b[38;5;241m=\u001b[39m feather\u001b[38;5;241m.\u001b[39mread_table(\n\u001b[1;32m    129\u001b[0m         handles\u001b[38;5;241m.\u001b[39mhandle, columns\u001b[38;5;241m=\u001b[39mcolumns, use_threads\u001b[38;5;241m=\u001b[39m\u001b[38;5;28mbool\u001b[39m(use_threads)\n\u001b[1;32m    130\u001b[0m     )\n\u001b[1;32m    132\u001b[0m     \u001b[38;5;28;01mif\u001b[39;00m dtype_backend \u001b[38;5;241m==\u001b[39m \u001b[38;5;124m\"\u001b[39m\u001b[38;5;124mnumpy_nullable\u001b[39m\u001b[38;5;124m\"\u001b[39m:\n",
      "File \u001b[0;32m~/.pyenv/versions/3.10.6/envs/polclassifier/lib/python3.10/site-packages/pyarrow/feather.py:226\u001b[0m, in \u001b[0;36mread_feather\u001b[0;34m(source, columns, use_threads, memory_map, **kwargs)\u001b[0m\n\u001b[1;32m    199\u001b[0m \u001b[38;5;28;01mdef\u001b[39;00m \u001b[38;5;21mread_feather\u001b[39m(source, columns\u001b[38;5;241m=\u001b[39m\u001b[38;5;28;01mNone\u001b[39;00m, use_threads\u001b[38;5;241m=\u001b[39m\u001b[38;5;28;01mTrue\u001b[39;00m,\n\u001b[1;32m    200\u001b[0m                  memory_map\u001b[38;5;241m=\u001b[39m\u001b[38;5;28;01mFalse\u001b[39;00m, \u001b[38;5;241m*\u001b[39m\u001b[38;5;241m*\u001b[39mkwargs):\n\u001b[1;32m    201\u001b[0m \u001b[38;5;250m    \u001b[39m\u001b[38;5;124;03m\"\"\"\u001b[39;00m\n\u001b[1;32m    202\u001b[0m \u001b[38;5;124;03m    Read a pandas.DataFrame from Feather format. To read as pyarrow.Table use\u001b[39;00m\n\u001b[1;32m    203\u001b[0m \u001b[38;5;124;03m    feather.read_table.\u001b[39;00m\n\u001b[0;32m   (...)\u001b[0m\n\u001b[1;32m    224\u001b[0m \u001b[38;5;124;03m        The contents of the Feather file as a pandas.DataFrame\u001b[39;00m\n\u001b[1;32m    225\u001b[0m \u001b[38;5;124;03m    \"\"\"\u001b[39;00m\n\u001b[0;32m--> 226\u001b[0m     \u001b[38;5;28;01mreturn\u001b[39;00m (\u001b[43mread_table\u001b[49m\u001b[43m(\u001b[49m\n\u001b[1;32m    227\u001b[0m \u001b[43m        \u001b[49m\u001b[43msource\u001b[49m\u001b[43m,\u001b[49m\u001b[43m \u001b[49m\u001b[43mcolumns\u001b[49m\u001b[38;5;241;43m=\u001b[39;49m\u001b[43mcolumns\u001b[49m\u001b[43m,\u001b[49m\u001b[43m \u001b[49m\u001b[43mmemory_map\u001b[49m\u001b[38;5;241;43m=\u001b[39;49m\u001b[43mmemory_map\u001b[49m\u001b[43m,\u001b[49m\n\u001b[1;32m    228\u001b[0m \u001b[43m        \u001b[49m\u001b[43muse_threads\u001b[49m\u001b[38;5;241;43m=\u001b[39;49m\u001b[43muse_threads\u001b[49m\u001b[43m)\u001b[49m\u001b[38;5;241m.\u001b[39mto_pandas(use_threads\u001b[38;5;241m=\u001b[39muse_threads, \u001b[38;5;241m*\u001b[39m\u001b[38;5;241m*\u001b[39mkwargs))\n",
      "File \u001b[0;32m~/.pyenv/versions/3.10.6/envs/polclassifier/lib/python3.10/site-packages/pyarrow/feather.py:256\u001b[0m, in \u001b[0;36mread_table\u001b[0;34m(source, columns, memory_map, use_threads)\u001b[0m\n\u001b[1;32m    252\u001b[0m reader \u001b[38;5;241m=\u001b[39m _feather\u001b[38;5;241m.\u001b[39mFeatherReader(\n\u001b[1;32m    253\u001b[0m     source, use_memory_map\u001b[38;5;241m=\u001b[39mmemory_map, use_threads\u001b[38;5;241m=\u001b[39muse_threads)\n\u001b[1;32m    255\u001b[0m \u001b[38;5;28;01mif\u001b[39;00m columns \u001b[38;5;129;01mis\u001b[39;00m \u001b[38;5;28;01mNone\u001b[39;00m:\n\u001b[0;32m--> 256\u001b[0m     \u001b[38;5;28;01mreturn\u001b[39;00m \u001b[43mreader\u001b[49m\u001b[38;5;241;43m.\u001b[39;49m\u001b[43mread\u001b[49m\u001b[43m(\u001b[49m\u001b[43m)\u001b[49m\n\u001b[1;32m    258\u001b[0m column_types \u001b[38;5;241m=\u001b[39m [\u001b[38;5;28mtype\u001b[39m(column) \u001b[38;5;28;01mfor\u001b[39;00m column \u001b[38;5;129;01min\u001b[39;00m columns]\n\u001b[1;32m    259\u001b[0m \u001b[38;5;28;01mif\u001b[39;00m \u001b[38;5;28mall\u001b[39m(\u001b[38;5;28mmap\u001b[39m(\u001b[38;5;28;01mlambda\u001b[39;00m t: t \u001b[38;5;241m==\u001b[39m \u001b[38;5;28mint\u001b[39m, column_types)):\n",
      "\u001b[0;31mKeyboardInterrupt\u001b[0m: "
     ]
    }
   ],
   "source": [
    "# load model\n",
    "acc = train_evaluate_model_svm()\n",
    "# model = None\n",
    "\n",
    "# # load data and visualize\n",
    "# plot_confusion_matrix(model)"
   ]
  },
  {
   "cell_type": "code",
   "execution_count": null,
   "id": "e23f2455",
   "metadata": {},
   "outputs": [],
   "source": []
  }
 ],
 "metadata": {
  "environment": {
   "kernel": "python3",
   "name": "tf2-cpu.2-11.m120",
   "type": "gcloud",
   "uri": "us-docker.pkg.dev/deeplearning-platform-release/gcr.io/tf2-cpu.2-11:m120"
  },
  "kernelspec": {
   "display_name": "Python 3 (ipykernel)",
   "language": "python",
   "name": "python3"
  },
  "language_info": {
   "codemirror_mode": {
    "name": "ipython",
    "version": 3
   },
   "file_extension": ".py",
   "mimetype": "text/x-python",
   "name": "python",
   "nbconvert_exporter": "python",
   "pygments_lexer": "ipython3",
   "version": "3.10.6"
  },
  "toc": {
   "base_numbering": 1,
   "nav_menu": {},
   "number_sections": true,
   "sideBar": true,
   "skip_h1_title": false,
   "title_cell": "Table of Contents",
   "title_sidebar": "Contents",
   "toc_cell": false,
   "toc_position": {},
   "toc_section_display": true,
   "toc_window_display": false
  }
 },
 "nbformat": 4,
 "nbformat_minor": 5
}
