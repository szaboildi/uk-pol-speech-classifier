{
 "cells": [
  {
   "cell_type": "markdown",
   "id": "a2afdf1e-df25-4b60-841e-ce1752f95476",
   "metadata": {},
   "source": [
    "# Confusion Matrices"
   ]
  },
  {
   "cell_type": "code",
   "execution_count": 2,
   "id": "bce09fe3",
   "metadata": {
    "tags": []
   },
   "outputs": [],
   "source": [
    "%load_ext autoreload\n",
    "%autoreload 2"
   ]
  },
  {
   "cell_type": "code",
   "execution_count": 5,
   "id": "333ae004",
   "metadata": {
    "tags": []
   },
   "outputs": [],
   "source": [
    "# !pip install -e .."
   ]
  },
  {
   "cell_type": "code",
   "execution_count": 4,
   "id": "9cae0fb8",
   "metadata": {
    "tags": []
   },
   "outputs": [
    {
     "name": "stderr",
     "output_type": "stream",
     "text": [
      "[nltk_data] Downloading package stopwords to\n",
      "[nltk_data]     /home/jupyter/nltk_data...\n",
      "[nltk_data]   Package stopwords is already up-to-date!\n",
      "[nltk_data] Downloading package punkt to /home/jupyter/nltk_data...\n",
      "[nltk_data]   Package punkt is already up-to-date!\n",
      "[nltk_data] Downloading package wordnet to /home/jupyter/nltk_data...\n",
      "[nltk_data]   Package wordnet is already up-to-date!\n",
      "2024-05-10 08:21:25.473051: I tensorflow/core/platform/cpu_feature_guard.cc:193] This TensorFlow binary is optimized with oneAPI Deep Neural Network Library (oneDNN) to use the following CPU instructions in performance-critical operations:  AVX2 FMA\n",
      "To enable them in other operations, rebuild TensorFlow with the appropriate compiler flags.\n",
      "2024-05-10 08:21:30.141292: W tensorflow/compiler/xla/stream_executor/platform/default/dso_loader.cc:64] Could not load dynamic library 'libnvinfer.so.7'; dlerror: libnvinfer.so.7: cannot open shared object file: No such file or directory; LD_LIBRARY_PATH: /usr/local/cuda/lib64:/usr/local/nccl2/lib:/usr/local/cuda/extras/CUPTI/lib64\n",
      "2024-05-10 08:21:30.142796: W tensorflow/compiler/xla/stream_executor/platform/default/dso_loader.cc:64] Could not load dynamic library 'libnvinfer_plugin.so.7'; dlerror: libnvinfer_plugin.so.7: cannot open shared object file: No such file or directory; LD_LIBRARY_PATH: /usr/local/cuda/lib64:/usr/local/nccl2/lib:/usr/local/cuda/extras/CUPTI/lib64\n",
      "2024-05-10 08:21:30.142814: W tensorflow/compiler/tf2tensorrt/utils/py_utils.cc:38] TF-TRT Warning: Cannot dlopen some TensorRT libraries. If you would like to use Nvidia GPU with TensorRT, please make sure the missing libraries mentioned above are installed properly.\n"
     ]
    }
   ],
   "source": [
    "from polclassifier.utils import plot_confusion_matrix\n",
    "from polclassifier.interface.main import train_evaluate_model_svm"
   ]
  },
  {
   "cell_type": "markdown",
   "id": "99dd85c1-fb66-4326-beab-81b9be8c2bc7",
   "metadata": {},
   "source": [
    "## Logistic Regression"
   ]
  },
  {
   "cell_type": "code",
   "execution_count": null,
   "id": "074215e3-f5cd-44ed-837d-1d2d06c900cb",
   "metadata": {},
   "outputs": [],
   "source": [
    "# load model\n",
    "# load data\n",
    "# visualize"
   ]
  },
  {
   "cell_type": "markdown",
   "id": "8047243a-21bb-4972-b67f-799442528ac5",
   "metadata": {},
   "source": [
    "## KNN"
   ]
  },
  {
   "cell_type": "code",
   "execution_count": null,
   "id": "70e34a46-804e-478b-bf20-cc4b903545db",
   "metadata": {},
   "outputs": [],
   "source": [
    "# load model\n",
    "# load data\n",
    "# visualize"
   ]
  },
  {
   "cell_type": "markdown",
   "id": "2758f4e3-e21c-4410-a2f4-332375dcab7c",
   "metadata": {},
   "source": [
    "## Support Vector Machines"
   ]
  },
  {
   "cell_type": "code",
   "execution_count": null,
   "id": "c90e5c77-74e6-4ae2-8023-37edec0861dd",
   "metadata": {
    "tags": []
   },
   "outputs": [
    {
     "name": "stdout",
     "output_type": "stream",
     "text": [
      "\u001b[35m\n",
      "⭐️ Use case: train\u001b[0m\n",
      "\u001b[34m\n",
      "Loading preprocessed validation data...\u001b[0m\n",
      "\u001b[35m\n",
      " ⭐️ Use case: preprocess\u001b[0m\n",
      "✅ Raw dataset loaded in \n",
      "\n"
     ]
    },
    {
     "name": "stderr",
     "output_type": "stream",
     "text": [
      "/home/jupyter/code/szaboildi/uk-pol-speech-classifier/polclassifier/ml_logic/preprocessing.py:34: SettingWithCopyWarning: \n",
      "A value is trying to be set on a copy of a slice from a DataFrame.\n",
      "Try using .loc[row_indexer,col_indexer] = value instead\n",
      "\n",
      "See the caveats in the documentation: https://pandas.pydata.org/pandas-docs/stable/user_guide/indexing.html#returning-a-view-versus-a-copy\n",
      "  df[\"word_n_full\"] = df.apply(lambda row: len(row[\"text\"].strip().split()), axis=1)\n"
     ]
    },
    {
     "name": "stdout",
     "output_type": "stream",
     "text": [
      "✅ Raw data cleaned \n",
      "\n"
     ]
    },
    {
     "name": "stderr",
     "output_type": "stream",
     "text": [
      "/home/jupyter/code/szaboildi/uk-pol-speech-classifier/polclassifier/ml_logic/preprocessing.py:99: SettingWithCopyWarning: \n",
      "A value is trying to be set on a copy of a slice from a DataFrame.\n",
      "Try using .loc[row_indexer,col_indexer] = value instead\n",
      "\n",
      "See the caveats in the documentation: https://pandas.pydata.org/pandas-docs/stable/user_guide/indexing.html#returning-a-view-versus-a-copy\n",
      "  df[\"text\"] = df.apply(\n"
     ]
    },
    {
     "name": "stdout",
     "output_type": "stream",
     "text": [
      "✅ Text preprocessed - X created \n",
      "\n",
      "✅ X vectorized (TfIDf) \n",
      "\n",
      "✅ X and y preprocessed \n",
      "\n"
     ]
    }
   ],
   "source": [
    "# load model\n",
    "acc = train_evaluate_model_svm()\n",
    "# model = None\n",
    "\n",
    "# # load data and visualize\n",
    "# plot_confusion_matrix(model)"
   ]
  },
  {
   "cell_type": "code",
   "execution_count": null,
   "id": "e23f2455",
   "metadata": {},
   "outputs": [],
   "source": []
  }
 ],
 "metadata": {
  "environment": {
   "kernel": "python3",
   "name": "tf2-cpu.2-11.m120",
   "type": "gcloud",
   "uri": "us-docker.pkg.dev/deeplearning-platform-release/gcr.io/tf2-cpu.2-11:m120"
  },
  "kernelspec": {
   "display_name": "Python 3 (Local)",
   "language": "python",
   "name": "python3"
  },
  "language_info": {
   "codemirror_mode": {
    "name": "ipython",
    "version": 3
   },
   "file_extension": ".py",
   "mimetype": "text/x-python",
   "name": "python",
   "nbconvert_exporter": "python",
   "pygments_lexer": "ipython3",
   "version": "3.10.14"
  },
  "toc": {
   "base_numbering": 1,
   "nav_menu": {},
   "number_sections": true,
   "sideBar": true,
   "skip_h1_title": false,
   "title_cell": "Table of Contents",
   "title_sidebar": "Contents",
   "toc_cell": false,
   "toc_position": {},
   "toc_section_display": true,
   "toc_window_display": false
  }
 },
 "nbformat": 4,
 "nbformat_minor": 5
}
