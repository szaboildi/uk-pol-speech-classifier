{
 "cells": [
  {
   "cell_type": "markdown",
   "id": "a2afdf1e-df25-4b60-841e-ce1752f95476",
   "metadata": {},
   "source": [
    "# Confusion Matrices"
   ]
  },
  {
   "cell_type": "code",
   "execution_count": 11,
   "id": "333ae004",
   "metadata": {},
   "outputs": [
    {
     "name": "stderr",
     "output_type": "stream",
     "text": [
      "[autoreload of polclassifier.ml_logic.models failed: Traceback (most recent call last):\n",
      "  File \"/home/szaboildi/.pyenv/versions/3.10.6/envs/polclassifier/lib/python3.10/site-packages/IPython/extensions/autoreload.py\", line 276, in check\n",
      "    superreload(m, reload, self.old_objects)\n",
      "  File \"/home/szaboildi/.pyenv/versions/3.10.6/envs/polclassifier/lib/python3.10/site-packages/IPython/extensions/autoreload.py\", line 475, in superreload\n",
      "    module = reload(module)\n",
      "  File \"/home/szaboildi/.pyenv/versions/3.10.6/lib/python3.10/importlib/__init__.py\", line 169, in reload\n",
      "    _bootstrap._exec(spec, module)\n",
      "  File \"<frozen importlib._bootstrap>\", line 619, in _exec\n",
      "  File \"<frozen importlib._bootstrap_external>\", line 883, in exec_module\n",
      "  File \"<frozen importlib._bootstrap>\", line 241, in _call_with_frames_removed\n",
      "  File \"/home/szaboildi/code/szaboildi/uk-pol-speech-classifier/polclassifier/ml_logic/models.py\", line 18, in <module>\n",
      "    features_df = pd.read_csv('../../raw_data/features_1000sample_300min_500cutoff.csv', header=None)\n",
      "  File \"/home/szaboildi/.pyenv/versions/3.10.6/envs/polclassifier/lib/python3.10/site-packages/pandas/io/parsers/readers.py\", line 1026, in read_csv\n",
      "    return _read(filepath_or_buffer, kwds)\n",
      "  File \"/home/szaboildi/.pyenv/versions/3.10.6/envs/polclassifier/lib/python3.10/site-packages/pandas/io/parsers/readers.py\", line 620, in _read\n",
      "    parser = TextFileReader(filepath_or_buffer, **kwds)\n",
      "  File \"/home/szaboildi/.pyenv/versions/3.10.6/envs/polclassifier/lib/python3.10/site-packages/pandas/io/parsers/readers.py\", line 1620, in __init__\n",
      "    self._engine = self._make_engine(f, self.engine)\n",
      "FileNotFoundError: [Errno 2] No such file or directory: '../../raw_data/features_1000sample_300min_500cutoff.csv'\n",
      "]\n"
     ]
    },
    {
     "name": "stdout",
     "output_type": "stream",
     "text": [
      "Obtaining file:///home/szaboildi/code/szaboildi/uk-pol-speech-classifier\n",
      "  Preparing metadata (setup.py) ... \u001b[?25ldone\n",
      "\u001b[?25hRequirement already satisfied: colorama in /home/szaboildi/.pyenv/versions/3.10.6/envs/polclassifier/lib/python3.10/site-packages (from polclassifier==0.0.1) (0.4.6)\n",
      "Requirement already satisfied: nltk in /home/szaboildi/.pyenv/versions/3.10.6/envs/polclassifier/lib/python3.10/site-packages (from polclassifier==0.0.1) (3.8.1)\n",
      "Requirement already satisfied: pandas==2.2.2 in /home/szaboildi/.pyenv/versions/3.10.6/envs/polclassifier/lib/python3.10/site-packages (from polclassifier==0.0.1) (2.2.2)\n",
      "Requirement already satisfied: pyarrow==14.0.1 in /home/szaboildi/.pyenv/versions/3.10.6/envs/polclassifier/lib/python3.10/site-packages (from polclassifier==0.0.1) (14.0.1)\n",
      "Requirement already satisfied: scikit-learn==1.3.1 in /home/szaboildi/.pyenv/versions/3.10.6/envs/polclassifier/lib/python3.10/site-packages (from polclassifier==0.0.1) (1.3.1)\n",
      "Requirement already satisfied: numpy>=1.22.4 in /home/szaboildi/.pyenv/versions/3.10.6/envs/polclassifier/lib/python3.10/site-packages (from pandas==2.2.2->polclassifier==0.0.1) (1.26.4)\n",
      "Requirement already satisfied: python-dateutil>=2.8.2 in /home/szaboildi/.pyenv/versions/3.10.6/envs/polclassifier/lib/python3.10/site-packages (from pandas==2.2.2->polclassifier==0.0.1) (2.9.0.post0)\n",
      "Requirement already satisfied: pytz>=2020.1 in /home/szaboildi/.pyenv/versions/3.10.6/envs/polclassifier/lib/python3.10/site-packages (from pandas==2.2.2->polclassifier==0.0.1) (2024.1)\n",
      "Requirement already satisfied: tzdata>=2022.7 in /home/szaboildi/.pyenv/versions/3.10.6/envs/polclassifier/lib/python3.10/site-packages (from pandas==2.2.2->polclassifier==0.0.1) (2024.1)\n",
      "Requirement already satisfied: scipy>=1.5.0 in /home/szaboildi/.pyenv/versions/3.10.6/envs/polclassifier/lib/python3.10/site-packages (from scikit-learn==1.3.1->polclassifier==0.0.1) (1.13.0)\n",
      "Requirement already satisfied: joblib>=1.1.1 in /home/szaboildi/.pyenv/versions/3.10.6/envs/polclassifier/lib/python3.10/site-packages (from scikit-learn==1.3.1->polclassifier==0.0.1) (1.4.2)\n",
      "Requirement already satisfied: threadpoolctl>=2.0.0 in /home/szaboildi/.pyenv/versions/3.10.6/envs/polclassifier/lib/python3.10/site-packages (from scikit-learn==1.3.1->polclassifier==0.0.1) (3.5.0)\n",
      "Requirement already satisfied: click in /home/szaboildi/.pyenv/versions/3.10.6/envs/polclassifier/lib/python3.10/site-packages (from nltk->polclassifier==0.0.1) (8.1.7)\n",
      "Requirement already satisfied: regex>=2021.8.3 in /home/szaboildi/.pyenv/versions/3.10.6/envs/polclassifier/lib/python3.10/site-packages (from nltk->polclassifier==0.0.1) (2024.4.28)\n",
      "Requirement already satisfied: tqdm in /home/szaboildi/.pyenv/versions/3.10.6/envs/polclassifier/lib/python3.10/site-packages (from nltk->polclassifier==0.0.1) (4.66.4)\n",
      "Requirement already satisfied: six>=1.5 in /home/szaboildi/.pyenv/versions/3.10.6/envs/polclassifier/lib/python3.10/site-packages (from python-dateutil>=2.8.2->pandas==2.2.2->polclassifier==0.0.1) (1.16.0)\n",
      "Installing collected packages: polclassifier\n",
      "  Attempting uninstall: polclassifier\n",
      "    Found existing installation: polclassifier 0.0.1\n",
      "    Uninstalling polclassifier-0.0.1:\n",
      "      Successfully uninstalled polclassifier-0.0.1\n",
      "  Running setup.py develop for polclassifier\n",
      "Successfully installed polclassifier-0.0.1\n"
     ]
    }
   ],
   "source": [
    "!pip install -e .."
   ]
  },
  {
   "cell_type": "code",
   "execution_count": 9,
   "id": "bce09fe3",
   "metadata": {},
   "outputs": [
    {
     "name": "stdout",
     "output_type": "stream",
     "text": [
      "The autoreload extension is already loaded. To reload it, use:\n",
      "  %reload_ext autoreload\n"
     ]
    }
   ],
   "source": [
    "%load_ext autoreload\n",
    "%autoreload 2"
   ]
  },
  {
   "cell_type": "code",
   "execution_count": 10,
   "id": "9cae0fb8",
   "metadata": {},
   "outputs": [],
   "source": [
    "from polclassifier.utils import plot_confusion_matrix"
   ]
  },
  {
   "cell_type": "markdown",
   "id": "99dd85c1-fb66-4326-beab-81b9be8c2bc7",
   "metadata": {},
   "source": [
    "## Logistic Regression"
   ]
  },
  {
   "cell_type": "code",
   "execution_count": null,
   "id": "074215e3-f5cd-44ed-837d-1d2d06c900cb",
   "metadata": {},
   "outputs": [],
   "source": [
    "# load model\n",
    "# load data\n",
    "# visualize"
   ]
  },
  {
   "cell_type": "markdown",
   "id": "8047243a-21bb-4972-b67f-799442528ac5",
   "metadata": {},
   "source": [
    "## KNN"
   ]
  },
  {
   "cell_type": "code",
   "execution_count": null,
   "id": "70e34a46-804e-478b-bf20-cc4b903545db",
   "metadata": {},
   "outputs": [],
   "source": [
    "# load model\n",
    "# load data\n",
    "# visualize"
   ]
  },
  {
   "cell_type": "markdown",
   "id": "2758f4e3-e21c-4410-a2f4-332375dcab7c",
   "metadata": {},
   "source": [
    "## Support Vector Machines"
   ]
  },
  {
   "cell_type": "code",
   "execution_count": null,
   "id": "c90e5c77-74e6-4ae2-8023-37edec0861dd",
   "metadata": {},
   "outputs": [],
   "source": [
    "# load model\n",
    "model = None\n",
    "\n",
    "# load data and visualize\n",
    "plot_confusion_matrix(model)"
   ]
  }
 ],
 "metadata": {
  "environment": {
   "kernel": "python3",
   "name": "tf2-cpu.2-11.m120",
   "type": "gcloud",
   "uri": "us-docker.pkg.dev/deeplearning-platform-release/gcr.io/tf2-cpu.2-11:m120"
  },
  "kernelspec": {
   "display_name": "Python 3 (ipykernel)",
   "language": "python",
   "name": "python3"
  },
  "language_info": {
   "codemirror_mode": {
    "name": "ipython",
    "version": 3
   },
   "file_extension": ".py",
   "mimetype": "text/x-python",
   "name": "python",
   "nbconvert_exporter": "python",
   "pygments_lexer": "ipython3",
   "version": "3.10.6"
  },
  "toc": {
   "base_numbering": 1,
   "nav_menu": {},
   "number_sections": true,
   "sideBar": true,
   "skip_h1_title": false,
   "title_cell": "Table of Contents",
   "title_sidebar": "Contents",
   "toc_cell": false,
   "toc_position": {},
   "toc_section_display": true,
   "toc_window_display": false
  }
 },
 "nbformat": 4,
 "nbformat_minor": 5
}
