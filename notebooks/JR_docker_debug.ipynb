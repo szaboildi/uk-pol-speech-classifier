{
 "cells": [
  {
   "cell_type": "code",
   "execution_count": 1,
   "id": "641b7e56-b37e-4437-9d7e-8ed12a529a57",
   "metadata": {
    "collapsed": true,
    "jupyter": {
     "outputs_hidden": true
    },
    "tags": []
   },
   "outputs": [
    {
     "name": "stdout",
     "output_type": "stream",
     "text": [
      "Processing /home/jupyter/code/szaboildi/uk-pol-speech-classifier\n",
      "  Preparing metadata (setup.py) ... \u001b[?25ldone\n",
      "\u001b[?25hRequirement already satisfied: colorama in /opt/conda/lib/python3.10/site-packages (from polclassifier==0.0.1) (0.4.6)\n",
      "Requirement already satisfied: pandas in /opt/conda/lib/python3.10/site-packages (from polclassifier==0.0.1) (2.0.3)\n",
      "Requirement already satisfied: scikit-learn==1.3.1 in /opt/conda/lib/python3.10/site-packages (from polclassifier==0.0.1) (1.3.1)\n",
      "Requirement already satisfied: nltk in /opt/conda/lib/python3.10/site-packages (from polclassifier==0.0.1) (3.8.1)\n",
      "Requirement already satisfied: gensim>=4.1.0 in /opt/conda/lib/python3.10/site-packages (from polclassifier==0.0.1) (4.3.2)\n",
      "Requirement already satisfied: pyarrow in /opt/conda/lib/python3.10/site-packages (from polclassifier==0.0.1) (9.0.0)\n",
      "Requirement already satisfied: fastapi in /opt/conda/lib/python3.10/site-packages (from polclassifier==0.0.1) (0.110.1)\n",
      "Requirement already satisfied: pytz in /opt/conda/lib/python3.10/site-packages (from polclassifier==0.0.1) (2024.1)\n",
      "Requirement already satisfied: uvicorn in /opt/conda/lib/python3.10/site-packages (from polclassifier==0.0.1) (0.29.0)\n",
      "Requirement already satisfied: httpx in /opt/conda/lib/python3.10/site-packages (from polclassifier==0.0.1) (0.27.0)\n",
      "Requirement already satisfied: pytest-asyncio in /opt/conda/lib/python3.10/site-packages (from polclassifier==0.0.1) (0.23.6)\n",
      "Requirement already satisfied: google-cloud-storage in /opt/conda/lib/python3.10/site-packages (from polclassifier==0.0.1) (2.14.0)\n",
      "Requirement already satisfied: protobuf==3.20.1 in /opt/conda/lib/python3.10/site-packages (from polclassifier==0.0.1) (3.20.1)\n",
      "Requirement already satisfied: numpy<2.0,>=1.17.3 in /opt/conda/lib/python3.10/site-packages (from scikit-learn==1.3.1->polclassifier==0.0.1) (1.24.4)\n",
      "Requirement already satisfied: scipy>=1.5.0 in /opt/conda/lib/python3.10/site-packages (from scikit-learn==1.3.1->polclassifier==0.0.1) (1.11.4)\n",
      "Requirement already satisfied: joblib>=1.1.1 in /opt/conda/lib/python3.10/site-packages (from scikit-learn==1.3.1->polclassifier==0.0.1) (1.4.0)\n",
      "Requirement already satisfied: threadpoolctl>=2.0.0 in /opt/conda/lib/python3.10/site-packages (from scikit-learn==1.3.1->polclassifier==0.0.1) (3.4.0)\n",
      "Requirement already satisfied: smart-open>=1.8.1 in /opt/conda/lib/python3.10/site-packages (from gensim>=4.1.0->polclassifier==0.0.1) (7.0.4)\n",
      "Requirement already satisfied: pydantic!=1.8,!=1.8.1,!=2.0.0,!=2.0.1,!=2.1.0,<3.0.0,>=1.7.4 in /opt/conda/lib/python3.10/site-packages (from fastapi->polclassifier==0.0.1) (1.10.15)\n",
      "Requirement already satisfied: starlette<0.38.0,>=0.37.2 in /opt/conda/lib/python3.10/site-packages (from fastapi->polclassifier==0.0.1) (0.37.2)\n",
      "Requirement already satisfied: typing-extensions>=4.8.0 in /opt/conda/lib/python3.10/site-packages (from fastapi->polclassifier==0.0.1) (4.11.0)\n",
      "Requirement already satisfied: google-auth<3.0dev,>=2.23.3 in /opt/conda/lib/python3.10/site-packages (from google-cloud-storage->polclassifier==0.0.1) (2.29.0)\n",
      "Requirement already satisfied: google-api-core!=2.0.*,!=2.1.*,!=2.2.*,!=2.3.0,<3.0.0dev,>=1.31.5 in /opt/conda/lib/python3.10/site-packages (from google-cloud-storage->polclassifier==0.0.1) (2.10.1)\n",
      "Requirement already satisfied: google-cloud-core<3.0dev,>=2.3.0 in /opt/conda/lib/python3.10/site-packages (from google-cloud-storage->polclassifier==0.0.1) (2.4.1)\n",
      "Requirement already satisfied: google-resumable-media>=2.6.0 in /opt/conda/lib/python3.10/site-packages (from google-cloud-storage->polclassifier==0.0.1) (2.7.0)\n",
      "Requirement already satisfied: requests<3.0.0dev,>=2.18.0 in /opt/conda/lib/python3.10/site-packages (from google-cloud-storage->polclassifier==0.0.1) (2.31.0)\n",
      "Requirement already satisfied: google-crc32c<2.0dev,>=1.0 in /opt/conda/lib/python3.10/site-packages (from google-cloud-storage->polclassifier==0.0.1) (1.5.0)\n",
      "Requirement already satisfied: anyio in /opt/conda/lib/python3.10/site-packages (from httpx->polclassifier==0.0.1) (4.3.0)\n",
      "Requirement already satisfied: certifi in /opt/conda/lib/python3.10/site-packages (from httpx->polclassifier==0.0.1) (2024.2.2)\n",
      "Requirement already satisfied: httpcore==1.* in /opt/conda/lib/python3.10/site-packages (from httpx->polclassifier==0.0.1) (1.0.5)\n",
      "Requirement already satisfied: idna in /opt/conda/lib/python3.10/site-packages (from httpx->polclassifier==0.0.1) (3.7)\n",
      "Requirement already satisfied: sniffio in /opt/conda/lib/python3.10/site-packages (from httpx->polclassifier==0.0.1) (1.3.1)\n",
      "Requirement already satisfied: h11<0.15,>=0.13 in /opt/conda/lib/python3.10/site-packages (from httpcore==1.*->httpx->polclassifier==0.0.1) (0.14.0)\n",
      "Requirement already satisfied: click in /opt/conda/lib/python3.10/site-packages (from nltk->polclassifier==0.0.1) (8.1.7)\n",
      "Requirement already satisfied: regex>=2021.8.3 in /opt/conda/lib/python3.10/site-packages (from nltk->polclassifier==0.0.1) (2024.4.16)\n",
      "Requirement already satisfied: tqdm in /opt/conda/lib/python3.10/site-packages (from nltk->polclassifier==0.0.1) (4.66.2)\n",
      "Requirement already satisfied: python-dateutil>=2.8.2 in /opt/conda/lib/python3.10/site-packages (from pandas->polclassifier==0.0.1) (2.9.0)\n",
      "Requirement already satisfied: tzdata>=2022.1 in /opt/conda/lib/python3.10/site-packages (from pandas->polclassifier==0.0.1) (2024.1)\n",
      "Requirement already satisfied: pytest<9,>=7.0.0 in /opt/conda/lib/python3.10/site-packages (from pytest-asyncio->polclassifier==0.0.1) (8.2.0)\n",
      "Requirement already satisfied: googleapis-common-protos<2.0dev,>=1.56.2 in /opt/conda/lib/python3.10/site-packages (from google-api-core!=2.0.*,!=2.1.*,!=2.2.*,!=2.3.0,<3.0.0dev,>=1.31.5->google-cloud-storage->polclassifier==0.0.1) (1.56.4)\n",
      "Requirement already satisfied: cachetools<6.0,>=2.0.0 in /opt/conda/lib/python3.10/site-packages (from google-auth<3.0dev,>=2.23.3->google-cloud-storage->polclassifier==0.0.1) (4.2.4)\n",
      "Requirement already satisfied: pyasn1-modules>=0.2.1 in /opt/conda/lib/python3.10/site-packages (from google-auth<3.0dev,>=2.23.3->google-cloud-storage->polclassifier==0.0.1) (0.4.0)\n",
      "Requirement already satisfied: rsa<5,>=3.1.4 in /opt/conda/lib/python3.10/site-packages (from google-auth<3.0dev,>=2.23.3->google-cloud-storage->polclassifier==0.0.1) (4.9)\n",
      "Requirement already satisfied: iniconfig in /opt/conda/lib/python3.10/site-packages (from pytest<9,>=7.0.0->pytest-asyncio->polclassifier==0.0.1) (2.0.0)\n",
      "Requirement already satisfied: packaging in /opt/conda/lib/python3.10/site-packages (from pytest<9,>=7.0.0->pytest-asyncio->polclassifier==0.0.1) (24.0)\n",
      "Requirement already satisfied: pluggy<2.0,>=1.5 in /opt/conda/lib/python3.10/site-packages (from pytest<9,>=7.0.0->pytest-asyncio->polclassifier==0.0.1) (1.5.0)\n",
      "Requirement already satisfied: exceptiongroup>=1.0.0rc8 in /opt/conda/lib/python3.10/site-packages (from pytest<9,>=7.0.0->pytest-asyncio->polclassifier==0.0.1) (1.2.0)\n",
      "Requirement already satisfied: tomli>=1 in /opt/conda/lib/python3.10/site-packages (from pytest<9,>=7.0.0->pytest-asyncio->polclassifier==0.0.1) (2.0.1)\n",
      "Requirement already satisfied: six>=1.5 in /opt/conda/lib/python3.10/site-packages (from python-dateutil>=2.8.2->pandas->polclassifier==0.0.1) (1.16.0)\n",
      "Requirement already satisfied: charset-normalizer<4,>=2 in /opt/conda/lib/python3.10/site-packages (from requests<3.0.0dev,>=2.18.0->google-cloud-storage->polclassifier==0.0.1) (3.3.2)\n",
      "Requirement already satisfied: urllib3<3,>=1.21.1 in /opt/conda/lib/python3.10/site-packages (from requests<3.0.0dev,>=2.18.0->google-cloud-storage->polclassifier==0.0.1) (1.26.18)\n",
      "Requirement already satisfied: wrapt in /opt/conda/lib/python3.10/site-packages (from smart-open>=1.8.1->gensim>=4.1.0->polclassifier==0.0.1) (1.16.0)\n",
      "Requirement already satisfied: pyasn1<0.7.0,>=0.4.6 in /opt/conda/lib/python3.10/site-packages (from pyasn1-modules>=0.2.1->google-auth<3.0dev,>=2.23.3->google-cloud-storage->polclassifier==0.0.1) (0.6.0)\n",
      "Building wheels for collected packages: polclassifier\n",
      "  Building wheel for polclassifier (setup.py) ... \u001b[?25ldone\n",
      "\u001b[?25h  Created wheel for polclassifier: filename=polclassifier-0.0.1-py3-none-any.whl size=13693 sha256=49b0722363c95ef45ce510d3392d4100fbfb96f9b9ed2cda8eb8803497e9fb4f\n",
      "  Stored in directory: /home/jupyter/.cache/pip/wheels/62/8c/bc/f3bb23466cf275ad76727c3996b011e2321ab07a4eee1b8593\n",
      "Successfully built polclassifier\n",
      "Installing collected packages: polclassifier\n",
      "  Attempting uninstall: polclassifier\n",
      "    Found existing installation: polclassifier 0.0.1\n",
      "    Uninstalling polclassifier-0.0.1:\n",
      "      Successfully uninstalled polclassifier-0.0.1\n",
      "Successfully installed polclassifier-0.0.1\n"
     ]
    }
   ],
   "source": [
    "!pip install .."
   ]
  },
  {
   "cell_type": "code",
   "execution_count": 2,
   "id": "b0d3ba31-67ab-4024-b498-64c55808becd",
   "metadata": {
    "tags": []
   },
   "outputs": [
    {
     "name": "stderr",
     "output_type": "stream",
     "text": [
      "[nltk_data] Downloading package stopwords to\n",
      "[nltk_data]     /home/jupyter/nltk_data...\n",
      "[nltk_data]   Package stopwords is already up-to-date!\n",
      "[nltk_data] Downloading package punkt to /home/jupyter/nltk_data...\n",
      "[nltk_data]   Package punkt is already up-to-date!\n",
      "[nltk_data] Downloading package wordnet to /home/jupyter/nltk_data...\n",
      "[nltk_data]   Package wordnet is already up-to-date!\n",
      "2024-05-15 07:57:05.768847: I tensorflow/core/platform/cpu_feature_guard.cc:193] This TensorFlow binary is optimized with oneAPI Deep Neural Network Library (oneDNN) to use the following CPU instructions in performance-critical operations:  AVX2 AVX512F AVX512_VNNI FMA\n",
      "To enable them in other operations, rebuild TensorFlow with the appropriate compiler flags.\n",
      "2024-05-15 07:57:06.469087: I tensorflow/core/util/port.cc:104] oneDNN custom operations are on. You may see slightly different numerical results due to floating-point round-off errors from different computation orders. To turn them off, set the environment variable `TF_ENABLE_ONEDNN_OPTS=0`.\n",
      "2024-05-15 07:57:09.451041: W tensorflow/compiler/xla/stream_executor/platform/default/dso_loader.cc:64] Could not load dynamic library 'libnvinfer.so.7'; dlerror: libnvinfer.so.7: cannot open shared object file: No such file or directory; LD_LIBRARY_PATH: /usr/local/cuda/lib64:/usr/local/nccl2/lib:/usr/local/cuda/extras/CUPTI/lib64\n",
      "2024-05-15 07:57:09.451861: W tensorflow/compiler/xla/stream_executor/platform/default/dso_loader.cc:64] Could not load dynamic library 'libnvinfer_plugin.so.7'; dlerror: libnvinfer_plugin.so.7: cannot open shared object file: No such file or directory; LD_LIBRARY_PATH: /usr/local/cuda/lib64:/usr/local/nccl2/lib:/usr/local/cuda/extras/CUPTI/lib64\n",
      "2024-05-15 07:57:09.451871: W tensorflow/compiler/tf2tensorrt/utils/py_utils.cc:38] TF-TRT Warning: Cannot dlopen some TensorRT libraries. If you would like to use Nvidia GPU with TensorRT, please make sure the missing libraries mentioned above are installed properly.\n"
     ]
    }
   ],
   "source": [
    "import os\n",
    "from colorama import Fore, Style\n",
    "import pandas as pd\n",
    "\n",
    "from sklearn.model_selection import train_test_split\n",
    "from polclassifier.ml_logic.preprocessing import *\n",
    "from polclassifier.ml_logic.models import *\n",
    "from polclassifier.ml_logic.registry import *\n",
    "from polclassifier.params import *"
   ]
  },
  {
   "cell_type": "code",
   "execution_count": 3,
   "id": "95f4a9bf-116e-4777-8fa7-48799054fa3e",
   "metadata": {
    "tags": []
   },
   "outputs": [],
   "source": [
    "def load_speeches(min_word_count=400, sample_size=1000, parties_to_exclude=[], speeches_per_party = 20):\n",
    "    print(\"function\")\n",
    "    # Load data from feather file\n",
    "    raw_data_path = os.path.join(\n",
    "            LOCAL_PATH, \"raw_data\", \"Corp_HouseOfCommons_V2.feather\")\n",
    "    data = pd.read_feather(raw_data_path)\n",
    "\n",
    "    # Filter and clean data\n",
    "    data = clean_data(df=data, min_word_count=min_word_count, sample_size=sample_size, parties_to_exclude=parties_to_exclude)\n",
    "\n",
    "    # Split the data into training and testing sets\n",
    "    data_train, data_test = train_test_split(data, test_size=0.2, random_state=42, stratify=data[\"party\"])\n",
    "\n",
    "    # Undersample data_test\n",
    "    grouped_data = data_test.groupby('party')\n",
    "    smaller_data_test = []\n",
    "    for party, group in grouped_data:\n",
    "        # Select randomly 20 speeches per party\n",
    "        sampled_group = group.sample(n=speeches_per_party, random_state=42)\n",
    "        # Add selected speeches to list\n",
    "        smaller_data_test.append(sampled_group)\n",
    "\n",
    "    df = pd.concat(smaller_data_test)\n",
    "    path = os.path.join(LOCAL_PATH, \"processed_data\", \"smaller_data_test.csv\")\n",
    "    df.to_csv(path, index=False)\n",
    "\n",
    "    return"
   ]
  },
  {
   "cell_type": "code",
   "execution_count": 5,
   "id": "503352a5-aa67-4293-b427-76c87b5ca86d",
   "metadata": {
    "tags": []
   },
   "outputs": [
    {
     "name": "stdout",
     "output_type": "stream",
     "text": [
      "function\n"
     ]
    },
    {
     "name": "stderr",
     "output_type": "stream",
     "text": [
      "/opt/conda/lib/python3.10/site-packages/polclassifier/ml_logic/preprocessing.py:37: SettingWithCopyWarning: \n",
      "A value is trying to be set on a copy of a slice from a DataFrame.\n",
      "Try using .loc[row_indexer,col_indexer] = value instead\n",
      "\n",
      "See the caveats in the documentation: https://pandas.pydata.org/pandas-docs/stable/user_guide/indexing.html#returning-a-view-versus-a-copy\n",
      "  df[\"word_n_full\"] = df.apply(lambda row: len(row[\"text\"].strip().split()), axis=1)\n"
     ]
    }
   ],
   "source": [
    "load_speeches()"
   ]
  },
  {
   "cell_type": "code",
   "execution_count": 7,
   "id": "211eb636-626c-4feb-9a4a-8ee14ea4fda7",
   "metadata": {
    "tags": []
   },
   "outputs": [],
   "source": [
    "df = pd.read_csv(os.path.join(LOCAL_PATH, \"processed_data\", \"smaller_data_test.csv\"))"
   ]
  },
  {
   "cell_type": "code",
   "execution_count": 17,
   "id": "a5502592-014b-49d6-b4f0-c84810129f48",
   "metadata": {
    "tags": []
   },
   "outputs": [
    {
     "data": {
      "text/plain": [
       "party\n",
       "Con           20\n",
       "DUP           20\n",
       "Lab           20\n",
       "LibDem        20\n",
       "PlaidCymru    20\n",
       "SNP           20\n",
       "UUP           20\n",
       "Name: count, dtype: int64"
      ]
     },
     "execution_count": 17,
     "metadata": {},
     "output_type": "execute_result"
    }
   ],
   "source": [
    "df.party.value_counts()"
   ]
  },
  {
   "cell_type": "code",
   "execution_count": 28,
   "id": "0e8a547e-07de-433d-a079-1ee6ce8742ed",
   "metadata": {
    "tags": []
   },
   "outputs": [
    {
     "data": {
      "text/html": [
       "<div>\n",
       "<style scoped>\n",
       "    .dataframe tbody tr th:only-of-type {\n",
       "        vertical-align: middle;\n",
       "    }\n",
       "\n",
       "    .dataframe tbody tr th {\n",
       "        vertical-align: top;\n",
       "    }\n",
       "\n",
       "    .dataframe thead th {\n",
       "        text-align: right;\n",
       "    }\n",
       "</style>\n",
       "<table border=\"1\" class=\"dataframe\">\n",
       "  <thead>\n",
       "    <tr style=\"text-align: right;\">\n",
       "      <th></th>\n",
       "      <th>index</th>\n",
       "      <th>speaker</th>\n",
       "      <th>party</th>\n",
       "      <th>text</th>\n",
       "      <th>word_n_full</th>\n",
       "    </tr>\n",
       "  </thead>\n",
       "  <tbody>\n",
       "    <tr>\n",
       "      <th>0</th>\n",
       "      <td>40</td>\n",
       "      <td>Phil Hope</td>\n",
       "      <td>Lab</td>\n",
       "      <td>The regulations governing the leakage of oil f...</td>\n",
       "      <td>870</td>\n",
       "    </tr>\n",
       "    <tr>\n",
       "      <th>1</th>\n",
       "      <td>41</td>\n",
       "      <td>Norman Godman</td>\n",
       "      <td>Lab</td>\n",
       "      <td>I promise that I shall be brief. Last week, I ...</td>\n",
       "      <td>473</td>\n",
       "    </tr>\n",
       "    <tr>\n",
       "      <th>2</th>\n",
       "      <td>42</td>\n",
       "      <td>Mike Gapes</td>\n",
       "      <td>Lab</td>\n",
       "      <td>I shall not recite a litany of individual case...</td>\n",
       "      <td>1187</td>\n",
       "    </tr>\n",
       "    <tr>\n",
       "      <th>3</th>\n",
       "      <td>43</td>\n",
       "      <td>Joan Walley</td>\n",
       "      <td>Lab</td>\n",
       "      <td>I will be brief, because I know that many hon....</td>\n",
       "      <td>926</td>\n",
       "    </tr>\n",
       "    <tr>\n",
       "      <th>4</th>\n",
       "      <td>44</td>\n",
       "      <td>Mo Mowlam</td>\n",
       "      <td>Lab</td>\n",
       "      <td>No, I shall not give way, because I have only ...</td>\n",
       "      <td>1309</td>\n",
       "    </tr>\n",
       "    <tr>\n",
       "      <th>5</th>\n",
       "      <td>45</td>\n",
       "      <td>Dawn Primarolo</td>\n",
       "      <td>Lab</td>\n",
       "      <td>I am not ruling out further alignment. It is s...</td>\n",
       "      <td>503</td>\n",
       "    </tr>\n",
       "    <tr>\n",
       "      <th>6</th>\n",
       "      <td>46</td>\n",
       "      <td>Ian Lucas</td>\n",
       "      <td>Lab</td>\n",
       "      <td>We consider and assess individual applications...</td>\n",
       "      <td>1085</td>\n",
       "    </tr>\n",
       "    <tr>\n",
       "      <th>7</th>\n",
       "      <td>47</td>\n",
       "      <td>Alan Whitehead</td>\n",
       "      <td>Lab</td>\n",
       "      <td>I have said in the House and on previous occas...</td>\n",
       "      <td>710</td>\n",
       "    </tr>\n",
       "    <tr>\n",
       "      <th>8</th>\n",
       "      <td>48</td>\n",
       "      <td>Ian Gibson</td>\n",
       "      <td>Lab</td>\n",
       "      <td>I thank the hon. Gentleman for that interventi...</td>\n",
       "      <td>495</td>\n",
       "    </tr>\n",
       "    <tr>\n",
       "      <th>9</th>\n",
       "      <td>49</td>\n",
       "      <td>Alan Whitehead</td>\n",
       "      <td>Lab</td>\n",
       "      <td>Neither have I. As I granted the hon. Member f...</td>\n",
       "      <td>428</td>\n",
       "    </tr>\n",
       "    <tr>\n",
       "      <th>10</th>\n",
       "      <td>50</td>\n",
       "      <td>Stephen Timms</td>\n",
       "      <td>Lab</td>\n",
       "      <td>This amendment would require a debate in both ...</td>\n",
       "      <td>574</td>\n",
       "    </tr>\n",
       "    <tr>\n",
       "      <th>11</th>\n",
       "      <td>51</td>\n",
       "      <td>David Blunkett</td>\n",
       "      <td>Lab</td>\n",
       "      <td>I am grateful for the Minister's explanation. ...</td>\n",
       "      <td>542</td>\n",
       "    </tr>\n",
       "    <tr>\n",
       "      <th>12</th>\n",
       "      <td>52</td>\n",
       "      <td>Barbara Keeley</td>\n",
       "      <td>Lab</td>\n",
       "      <td>The Minister can hear the comments being made ...</td>\n",
       "      <td>426</td>\n",
       "    </tr>\n",
       "    <tr>\n",
       "      <th>13</th>\n",
       "      <td>53</td>\n",
       "      <td>Tam Dalyell</td>\n",
       "      <td>Lab</td>\n",
       "      <td>I shall be succinct, Madam Speaker, because I ...</td>\n",
       "      <td>743</td>\n",
       "    </tr>\n",
       "    <tr>\n",
       "      <th>14</th>\n",
       "      <td>54</td>\n",
       "      <td>Pat McFadden</td>\n",
       "      <td>Lab</td>\n",
       "      <td>There are two issues at the heart of this deba...</td>\n",
       "      <td>695</td>\n",
       "    </tr>\n",
       "    <tr>\n",
       "      <th>15</th>\n",
       "      <td>55</td>\n",
       "      <td>Lindsay Hoyle</td>\n",
       "      <td>Lab</td>\n",
       "      <td>I congratulate the hon. Member for Meriden (Mr...</td>\n",
       "      <td>529</td>\n",
       "    </tr>\n",
       "    <tr>\n",
       "      <th>16</th>\n",
       "      <td>56</td>\n",
       "      <td>Frank Field</td>\n",
       "      <td>Lab</td>\n",
       "      <td>I should like to support the Chairman of the C...</td>\n",
       "      <td>775</td>\n",
       "    </tr>\n",
       "    <tr>\n",
       "      <th>17</th>\n",
       "      <td>57</td>\n",
       "      <td>John Healey</td>\n",
       "      <td>Lab</td>\n",
       "      <td>The terrible tragedy of Grenfell Tower was a n...</td>\n",
       "      <td>418</td>\n",
       "    </tr>\n",
       "    <tr>\n",
       "      <th>18</th>\n",
       "      <td>58</td>\n",
       "      <td>Hazel Blears</td>\n",
       "      <td>Lab</td>\n",
       "      <td>Clearly, the exercise of capping powers will b...</td>\n",
       "      <td>765</td>\n",
       "    </tr>\n",
       "    <tr>\n",
       "      <th>19</th>\n",
       "      <td>59</td>\n",
       "      <td>Pat McFadden</td>\n",
       "      <td>Lab</td>\n",
       "      <td>I wish to repeat a statement made by my noble ...</td>\n",
       "      <td>1356</td>\n",
       "    </tr>\n",
       "  </tbody>\n",
       "</table>\n",
       "</div>"
      ],
      "text/plain": [
       "    index         speaker party  \\\n",
       "0      40       Phil Hope   Lab   \n",
       "1      41   Norman Godman   Lab   \n",
       "2      42      Mike Gapes   Lab   \n",
       "3      43     Joan Walley   Lab   \n",
       "4      44       Mo Mowlam   Lab   \n",
       "5      45  Dawn Primarolo   Lab   \n",
       "6      46       Ian Lucas   Lab   \n",
       "7      47  Alan Whitehead   Lab   \n",
       "8      48      Ian Gibson   Lab   \n",
       "9      49  Alan Whitehead   Lab   \n",
       "10     50   Stephen Timms   Lab   \n",
       "11     51  David Blunkett   Lab   \n",
       "12     52  Barbara Keeley   Lab   \n",
       "13     53     Tam Dalyell   Lab   \n",
       "14     54    Pat McFadden   Lab   \n",
       "15     55   Lindsay Hoyle   Lab   \n",
       "16     56     Frank Field   Lab   \n",
       "17     57     John Healey   Lab   \n",
       "18     58    Hazel Blears   Lab   \n",
       "19     59    Pat McFadden   Lab   \n",
       "\n",
       "                                                 text  word_n_full  \n",
       "0   The regulations governing the leakage of oil f...          870  \n",
       "1   I promise that I shall be brief. Last week, I ...          473  \n",
       "2   I shall not recite a litany of individual case...         1187  \n",
       "3   I will be brief, because I know that many hon....          926  \n",
       "4   No, I shall not give way, because I have only ...         1309  \n",
       "5   I am not ruling out further alignment. It is s...          503  \n",
       "6   We consider and assess individual applications...         1085  \n",
       "7   I have said in the House and on previous occas...          710  \n",
       "8   I thank the hon. Gentleman for that interventi...          495  \n",
       "9   Neither have I. As I granted the hon. Member f...          428  \n",
       "10  This amendment would require a debate in both ...          574  \n",
       "11  I am grateful for the Minister's explanation. ...          542  \n",
       "12  The Minister can hear the comments being made ...          426  \n",
       "13  I shall be succinct, Madam Speaker, because I ...          743  \n",
       "14  There are two issues at the heart of this deba...          695  \n",
       "15  I congratulate the hon. Member for Meriden (Mr...          529  \n",
       "16  I should like to support the Chairman of the C...          775  \n",
       "17  The terrible tragedy of Grenfell Tower was a n...          418  \n",
       "18  Clearly, the exercise of capping powers will b...          765  \n",
       "19  I wish to repeat a statement made by my noble ...         1356  "
      ]
     },
     "execution_count": 28,
     "metadata": {},
     "output_type": "execute_result"
    }
   ],
   "source": [
    "party_data = df[df['party'] == \"Lab\"].reset_index(drop=Tru)\n",
    "party_data"
   ]
  },
  {
   "cell_type": "code",
   "execution_count": 26,
   "id": "f451942f-789e-4704-bfb6-594933751566",
   "metadata": {
    "tags": []
   },
   "outputs": [],
   "source": [
    "import random\n",
    "\n",
    "def get_speech(data, party: str):\n",
    "\n",
    "    # Filter data based on party\n",
    "    party_data = data[data['party'] == party].reset_index(drop_)\n",
    "\n",
    "    # Check if there are speeches available for the selected party\n",
    "    if party_data.empty:\n",
    "        return {\"error\": \"No speeches found for the selected party.\"}\n",
    "\n",
    "    # Select a random speech from the filtered data\n",
    "    selected_speech = random.choice(party_data['text'])\n",
    "    return dict(speech = selected_speech)"
   ]
  },
  {
   "cell_type": "code",
   "execution_count": 27,
   "id": "16fe7c67-c3f8-4cbe-9fe7-f62270bcc0e6",
   "metadata": {
    "tags": []
   },
   "outputs": [
    {
     "data": {
      "text/plain": [
       "{'speech': \"No, I shall not give way, because I have only 10 minutes. On the social chapter, it is no use the hon. and learned Gentleman saying that the Government can introduce the changes. We have waited 12 years. To take one simple example, working women in this country do not have the maternity benefits that women working in other European countries consider a basic right. We have waited 12 years - You don't get pregnant, sweetheart. We have waited 12 years for that change, and it has not come. What the Prime Minister said in the Chamber yesterday was inaccurate-we are arguing not about the length of maternity leave, but about maternity benefits. As female Conservative hon. Members know, about 50 per cent. of women who apply for maternity benefit do not get it, because of the stringent qualifications. The social chapter could achieve such basic rights for women. That is why we are pushing for it, and that is why the other 11 countries are in a different position from this country. Similarly, on the 48-hour limit on working hours, the Secretary of State for Employment has again misled the House with inaccurate statements. The argument is not that everybody should work for 48 hours. There are clear exemptions-for contracts, emergency services and so on. It simply says that people cannot be forced. Early-day motion 426, which several hon. Members, including my hon. Friend the Member for Langbaurgh (Dr. Kumar), have signed, describes how a butcher in my constituency was sacked because he did not want to work more than 12 hours' overtime a week-he wanted to spend more time with his family. That would not happen if the directive were in place. That, and not anything else, is the meaning of such directives. I shall concentrate on the impact of the decisions made at Maastricht on the financial services industry of this country. Hon. Members on both sides of the House know that financial services are a crucial part of our economy-17Â·5 per cent. of the invisible earnings in our GDP result from financial services, and 2Â·5 million people are employed in the industry. That is the highest number in any country in Europe, and it means that 11Â·5 per cent. of people work in financial services in this country. I am not talking about the square mile alone, but about Manchester, Birmingham, Edinburgh, Glasgow, north Yorkshire and elsewhere. Financial services are a major part of our economy-a part which has managed to keep some vibrancy during the two recessions that the Government have created. The Government's decision not to opt into the EMU has put a question mark over confidence in the future of London as the leading financial centre. I assure the House that we want to keep the City of London as the lead financial centre. By opting out of the EMU the Government have imposed a backward-looking perspective. They have made the British economy more vulnerable and the future role of the City of London more questionable-not only this year, but for the next decade. The Opposition still want to fight to bring the European central bank to the United Kingdom, but the Government have played this very badly. They took the European bank for reconstruction and development-that was bad chess playing by any definition. We have that, with a French president, which makes it more difficult for us to argue that we should have the European central bank-but we must do it. A Conservative Member and several of my hon. Friends argued earlier that a shift is taking place as the EFTA countries come into the Community, locating the centre further away from the east and back towards the north. We hope that that will help to keep the focus on London as a central player within Europe. The Government will have to push for that, but their record on financial services, both at and before Maastricht, is appalling. I will give two or three examples. There is the investment services directive and the capital adequacy directive. The United Kingdom asked for that directive. We tried again on Monday, but Department of Trade and Industry Ministers again failed to secure agreement. Having asked for it, they failed to deliver it. That ruins our credibility and any standing that we have in such negotiations. Such a history makes it difficult for us to argue our corner in Europe. The insurance industry is another good example. The Government's ideological blinkers for the free market are worn at the expense of that industry. They talk about a level playing field, but our industry has to fight uphill in both halves, so it has its back against the wall, and will have for the next five years. Takeover policy is another example. The Government care about the free market, at the expense of our industry. We should consider the poison pill in France, the structural relationship of banking to the financial sector and to industry, and the interplay in Europe. That leaves our industry unfairly exposed. That is what the Government's negotiations in Europe have done, against a backdrop of decisions that have tied the hands of our financial services industry. The example of TAURUS-the transfer and automated registration of uncertificated stock-illustrates the point. It has taken the Government nearly 10 years and they still move the goal posts on TAURUS every three months. France dematerialised in a number of years. The DTI blames the stock exchange; the stock exchange blames the DTI. The outcome is that our stock exchange is working at a disadvantage compared with those in the rest of Europe. Regulation does not protect the consumer; it is costly to the industry. The record of regulation in this country is appalling. We have regulations, but we do not use them. The Government could have acted on many of the frauds that have taken place, but they have sat back and let those frauds continue. What do we see in the Financial Times today? We see Maxwell, Levitt, Polly Peck and Blue Arrow-they are all still up and running. We have regulations, such as the Company Directors Disqualification Act 1986, but the Government have not used them. When other people in Europe look at London, they see a host of regulations and a Government who are not prepared to implement them-a cost without any consumer protection. Who would want to use London? This week there was the London futures and options case. There were six people involved, four of them on the board, and they were fined only Â£60,000 because, as it said in one of the papers, if they had been charged any more the financial hardship would have been too much for them. With that kind of performance, how can we hope that our futures and options can compete against the Deutsche TerminbÃ–rse and other markets in Europe? If we are serious about our financial services, we have to introduce some changes. The Department of Trade and Industry-with the set of Ministers that it has had year in and year out-has not had the leadership or implemented the infrastructure that our financial services industry needs. As the next Government, we shall introduce a consumer protection directive during our European presidency in the second half of the year. We shall implement and use the regulations already on the statute book. As we have said elsewhere, we shall make certain auditing and accounting changes. But above all, we shall fight in Europe for our financial services industry, as the French do for Paris and the Germans for Frankfurt. The Government have left our industry exposed in a way that has lost 400,000 jobs in the past two years and will lose more jobs and more of the focus of the industry if it is left to the post-Maastricht attitude that the Government have manifested.\"}"
      ]
     },
     "execution_count": 27,
     "metadata": {},
     "output_type": "execute_result"
    }
   ],
   "source": [
    "get_speech(data=df, party=\"Lab\")"
   ]
  }
 ],
 "metadata": {
  "environment": {
   "kernel": "python3",
   "name": "tf2-cpu.2-11.m120",
   "type": "gcloud",
   "uri": "us-docker.pkg.dev/deeplearning-platform-release/gcr.io/tf2-cpu.2-11:m120"
  },
  "kernelspec": {
   "display_name": "Python 3 (Local)",
   "language": "python",
   "name": "python3"
  },
  "language_info": {
   "codemirror_mode": {
    "name": "ipython",
    "version": 3
   },
   "file_extension": ".py",
   "mimetype": "text/x-python",
   "name": "python",
   "nbconvert_exporter": "python",
   "pygments_lexer": "ipython3",
   "version": "3.10.14"
  }
 },
 "nbformat": 4,
 "nbformat_minor": 5
}
