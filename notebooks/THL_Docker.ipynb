{
 "cells": [
  {
   "cell_type": "code",
   "execution_count": 1,
   "id": "2d030d18-a188-4bcc-b4af-f5024a70d20b",
   "metadata": {},
   "outputs": [],
   "source": [
    "import os\n",
    "import pandas as pd"
   ]
  },
  {
   "cell_type": "code",
   "execution_count": 3,
   "id": "f1171286-d0ff-44ba-a303-bb45687ed46a",
   "metadata": {},
   "outputs": [],
   "source": [
    "PROJECT_LEAD = \"szaboildi\"\n",
    "PROJECT_NAME = \"uk-pol-speech-classifier\"\n",
    "\n",
    "###########  CONSTANTS  ###############\n",
    "LOCAL_PATH = os.path.join(\n",
    "    os.path.expanduser('~'), \"code\", PROJECT_LEAD, PROJECT_NAME)\n",
    "raw_data_path = os.path.join(\n",
    "            LOCAL_PATH, \"raw_data\", \"Corp_HouseOfCommons_V2.feather\")\n",
    "data = pd.read_feather(raw_data_path)\n"
   ]
  },
  {
   "cell_type": "code",
   "execution_count": 4,
   "id": "af9d37dd-0f97-47f4-b891-dd5a774a88df",
   "metadata": {},
   "outputs": [],
   "source": [
    "path = os.path.join(LOCAL_PATH, \"processed_data\", \"smaller_data_test.csv\")"
   ]
  },
  {
   "cell_type": "code",
   "execution_count": 5,
   "id": "86117129-03bf-4734-acfc-bf74f6b38693",
   "metadata": {},
   "outputs": [
    {
     "data": {
      "text/plain": [
       "'/home/hailinh/code/szaboildi/uk-pol-speech-classifier/processed_data/smaller_data_test.csv'"
      ]
     },
     "execution_count": 5,
     "metadata": {},
     "output_type": "execute_result"
    }
   ],
   "source": [
    "path"
   ]
  },
  {
   "cell_type": "code",
   "execution_count": 6,
   "id": "b1bbb9cc-b715-4016-9a87-269c09f4296a",
   "metadata": {},
   "outputs": [
    {
     "data": {
      "text/html": [
       "<div>\n",
       "<style scoped>\n",
       "    .dataframe tbody tr th:only-of-type {\n",
       "        vertical-align: middle;\n",
       "    }\n",
       "\n",
       "    .dataframe tbody tr th {\n",
       "        vertical-align: top;\n",
       "    }\n",
       "\n",
       "    .dataframe thead th {\n",
       "        text-align: right;\n",
       "    }\n",
       "</style>\n",
       "<table border=\"1\" class=\"dataframe\">\n",
       "  <thead>\n",
       "    <tr style=\"text-align: right;\">\n",
       "      <th></th>\n",
       "      <th>speaker</th>\n",
       "      <th>party</th>\n",
       "      <th>text</th>\n",
       "      <th>word_n_full</th>\n",
       "    </tr>\n",
       "  </thead>\n",
       "  <tbody>\n",
       "    <tr>\n",
       "      <th>0</th>\n",
       "      <td>Cheryl Gillan</td>\n",
       "      <td>Con</td>\n",
       "      <td>That point was well made. I, too, was concerne...</td>\n",
       "      <td>480</td>\n",
       "    </tr>\n",
       "    <tr>\n",
       "      <th>1</th>\n",
       "      <td>Simon Hart</td>\n",
       "      <td>Con</td>\n",
       "      <td>Like many hon. Members, I trawled through the ...</td>\n",
       "      <td>819</td>\n",
       "    </tr>\n",
       "    <tr>\n",
       "      <th>2</th>\n",
       "      <td>Graham Brady</td>\n",
       "      <td>Con</td>\n",
       "      <td>I have taken a lot of interventions and I shou...</td>\n",
       "      <td>462</td>\n",
       "    </tr>\n",
       "    <tr>\n",
       "      <th>3</th>\n",
       "      <td>Tom King</td>\n",
       "      <td>Con</td>\n",
       "      <td>I have already commented on the need for Membe...</td>\n",
       "      <td>962</td>\n",
       "    </tr>\n",
       "    <tr>\n",
       "      <th>4</th>\n",
       "      <td>Gary Streeter</td>\n",
       "      <td>Con</td>\n",
       "      <td>I was about to make the point that many Conser...</td>\n",
       "      <td>849</td>\n",
       "    </tr>\n",
       "    <tr>\n",
       "      <th>...</th>\n",
       "      <td>...</td>\n",
       "      <td>...</td>\n",
       "      <td>...</td>\n",
       "      <td>...</td>\n",
       "    </tr>\n",
       "    <tr>\n",
       "      <th>135</th>\n",
       "      <td>William Ross</td>\n",
       "      <td>UUP</td>\n",
       "      <td>The hon. Member for Yeovil (Mr. Ashdown) picke...</td>\n",
       "      <td>418</td>\n",
       "    </tr>\n",
       "    <tr>\n",
       "      <th>136</th>\n",
       "      <td>William Ross</td>\n",
       "      <td>UUP</td>\n",
       "      <td>Following on briefly from what the right hon. ...</td>\n",
       "      <td>459</td>\n",
       "    </tr>\n",
       "    <tr>\n",
       "      <th>137</th>\n",
       "      <td>David Trimble</td>\n",
       "      <td>UUP</td>\n",
       "      <td>I congratulate the hon. Member for Canterbury ...</td>\n",
       "      <td>1344</td>\n",
       "    </tr>\n",
       "    <tr>\n",
       "      <th>138</th>\n",
       "      <td>John Taylor</td>\n",
       "      <td>UUP</td>\n",
       "      <td>With the leave of the House, I wish to reply t...</td>\n",
       "      <td>1018</td>\n",
       "    </tr>\n",
       "    <tr>\n",
       "      <th>139</th>\n",
       "      <td>David Trimble</td>\n",
       "      <td>UUP</td>\n",
       "      <td>I beg to move, That the clause be read a Secon...</td>\n",
       "      <td>1082</td>\n",
       "    </tr>\n",
       "  </tbody>\n",
       "</table>\n",
       "<p>140 rows × 4 columns</p>\n",
       "</div>"
      ],
      "text/plain": [
       "           speaker party                                               text  \\\n",
       "0    Cheryl Gillan   Con  That point was well made. I, too, was concerne...   \n",
       "1       Simon Hart   Con  Like many hon. Members, I trawled through the ...   \n",
       "2     Graham Brady   Con  I have taken a lot of interventions and I shou...   \n",
       "3         Tom King   Con  I have already commented on the need for Membe...   \n",
       "4    Gary Streeter   Con  I was about to make the point that many Conser...   \n",
       "..             ...   ...                                                ...   \n",
       "135   William Ross   UUP  The hon. Member for Yeovil (Mr. Ashdown) picke...   \n",
       "136   William Ross   UUP  Following on briefly from what the right hon. ...   \n",
       "137  David Trimble   UUP  I congratulate the hon. Member for Canterbury ...   \n",
       "138    John Taylor   UUP  With the leave of the House, I wish to reply t...   \n",
       "139  David Trimble   UUP  I beg to move, That the clause be read a Secon...   \n",
       "\n",
       "     word_n_full  \n",
       "0            480  \n",
       "1            819  \n",
       "2            462  \n",
       "3            962  \n",
       "4            849  \n",
       "..           ...  \n",
       "135          418  \n",
       "136          459  \n",
       "137         1344  \n",
       "138         1018  \n",
       "139         1082  \n",
       "\n",
       "[140 rows x 4 columns]"
      ]
     },
     "execution_count": 6,
     "metadata": {},
     "output_type": "execute_result"
    }
   ],
   "source": [
    "pd.read_csv(path)"
   ]
  },
  {
   "cell_type": "code",
   "execution_count": null,
   "id": "8a93ba2d-a10d-4ff8-bd24-17260a384fd0",
   "metadata": {},
   "outputs": [],
   "source": []
  }
 ],
 "metadata": {
  "kernelspec": {
   "display_name": "Python 3 (ipykernel)",
   "language": "python",
   "name": "python3"
  },
  "language_info": {
   "codemirror_mode": {
    "name": "ipython",
    "version": 3
   },
   "file_extension": ".py",
   "mimetype": "text/x-python",
   "name": "python",
   "nbconvert_exporter": "python",
   "pygments_lexer": "ipython3",
   "version": "3.10.6"
  }
 },
 "nbformat": 4,
 "nbformat_minor": 5
}
