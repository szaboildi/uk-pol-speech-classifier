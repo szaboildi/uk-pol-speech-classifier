{
 "cells": [
  {
   "cell_type": "code",
   "execution_count": 1,
   "id": "2d030d18-a188-4bcc-b4af-f5024a70d20b",
   "metadata": {},
   "outputs": [],
   "source": [
    "import os\n",
    "import pandas as pd"
   ]
  },
  {
   "cell_type": "code",
   "execution_count": 3,
   "id": "f1171286-d0ff-44ba-a303-bb45687ed46a",
   "metadata": {},
   "outputs": [],
   "source": [
    "PROJECT_LEAD = \"szaboildi\"\n",
    "PROJECT_NAME = \"uk-pol-speech-classifier\"\n",
    "\n",
    "###########  CONSTANTS  ###############\n",
    "LOCAL_PATH = os.path.join(\n",
    "    os.path.expanduser('~'), \"code\", PROJECT_LEAD, PROJECT_NAME)\n",
    "raw_data_path = os.path.join(\n",
    "            LOCAL_PATH, \"raw_data\", \"Corp_HouseOfCommons_V2.feather\")\n",
    "data = pd.read_feather(raw_data_path)\n"
   ]
  },
  {
   "cell_type": "code",
   "execution_count": null,
   "id": "af9d37dd-0f97-47f4-b891-dd5a774a88df",
   "metadata": {},
   "outputs": [],
   "source": []
  }
 ],
 "metadata": {
  "kernelspec": {
   "display_name": "Python 3 (ipykernel)",
   "language": "python",
   "name": "python3"
  },
  "language_info": {
   "codemirror_mode": {
    "name": "ipython",
    "version": 3
   },
   "file_extension": ".py",
   "mimetype": "text/x-python",
   "name": "python",
   "nbconvert_exporter": "python",
   "pygments_lexer": "ipython3",
   "version": "3.10.6"
  }
 },
 "nbformat": 4,
 "nbformat_minor": 5
}
