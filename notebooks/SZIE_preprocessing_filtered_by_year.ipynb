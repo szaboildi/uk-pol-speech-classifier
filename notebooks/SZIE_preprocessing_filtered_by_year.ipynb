{
 "cells": [
  {
   "cell_type": "code",
   "execution_count": 93,
   "id": "08ca1492-175c-4d65-91a8-f7ec827d6e6d",
   "metadata": {
    "tags": []
   },
   "outputs": [
    {
     "name": "stdout",
     "output_type": "stream",
     "text": [
      "Obtaining file:///home/jupyter/code/szaboildi/uk-pol-speech-classifier\n",
      "  Preparing metadata (setup.py) ... \u001b[?25ldone\n",
      "\u001b[?25hRequirement already satisfied: colorama in /opt/conda/lib/python3.10/site-packages (from polclassifier==0.0.1) (0.4.6)\n",
      "Requirement already satisfied: gensim in /opt/conda/lib/python3.10/site-packages (from polclassifier==0.0.1) (4.3.2)\n",
      "Requirement already satisfied: pandas in /opt/conda/lib/python3.10/site-packages (from polclassifier==0.0.1) (2.2.2)\n",
      "Requirement already satisfied: scikit-learn==1.3.1 in /opt/conda/lib/python3.10/site-packages (from polclassifier==0.0.1) (1.3.1)\n",
      "Requirement already satisfied: nltk in /opt/conda/lib/python3.10/site-packages (from polclassifier==0.0.1) (3.8.1)\n",
      "Requirement already satisfied: fastapi in /opt/conda/lib/python3.10/site-packages (from polclassifier==0.0.1) (0.110.1)\n",
      "Requirement already satisfied: pytz in /opt/conda/lib/python3.10/site-packages (from polclassifier==0.0.1) (2024.1)\n",
      "Requirement already satisfied: uvicorn in /opt/conda/lib/python3.10/site-packages (from polclassifier==0.0.1) (0.29.0)\n",
      "Requirement already satisfied: httpx in /opt/conda/lib/python3.10/site-packages (from polclassifier==0.0.1) (0.27.0)\n",
      "Requirement already satisfied: pytest-asyncio in /opt/conda/lib/python3.10/site-packages (from polclassifier==0.0.1) (0.23.6)\n",
      "Requirement already satisfied: google-cloud-storage in /opt/conda/lib/python3.10/site-packages (from polclassifier==0.0.1) (2.14.0)\n",
      "Requirement already satisfied: protobuf==3.20.1 in /opt/conda/lib/python3.10/site-packages (from polclassifier==0.0.1) (3.20.1)\n",
      "Requirement already satisfied: numpy<2.0,>=1.17.3 in /opt/conda/lib/python3.10/site-packages (from scikit-learn==1.3.1->polclassifier==0.0.1) (1.24.4)\n",
      "Requirement already satisfied: scipy>=1.5.0 in /opt/conda/lib/python3.10/site-packages (from scikit-learn==1.3.1->polclassifier==0.0.1) (1.11.4)\n",
      "Requirement already satisfied: joblib>=1.1.1 in /opt/conda/lib/python3.10/site-packages (from scikit-learn==1.3.1->polclassifier==0.0.1) (1.4.0)\n",
      "Requirement already satisfied: threadpoolctl>=2.0.0 in /opt/conda/lib/python3.10/site-packages (from scikit-learn==1.3.1->polclassifier==0.0.1) (3.4.0)\n",
      "Requirement already satisfied: pydantic!=1.8,!=1.8.1,!=2.0.0,!=2.0.1,!=2.1.0,<3.0.0,>=1.7.4 in /opt/conda/lib/python3.10/site-packages (from fastapi->polclassifier==0.0.1) (1.10.15)\n",
      "Requirement already satisfied: starlette<0.38.0,>=0.37.2 in /opt/conda/lib/python3.10/site-packages (from fastapi->polclassifier==0.0.1) (0.37.2)\n",
      "Requirement already satisfied: typing-extensions>=4.8.0 in /opt/conda/lib/python3.10/site-packages (from fastapi->polclassifier==0.0.1) (4.11.0)\n",
      "Requirement already satisfied: smart-open>=1.8.1 in /opt/conda/lib/python3.10/site-packages (from gensim->polclassifier==0.0.1) (7.0.4)\n",
      "Requirement already satisfied: google-auth<3.0dev,>=2.23.3 in /opt/conda/lib/python3.10/site-packages (from google-cloud-storage->polclassifier==0.0.1) (2.29.0)\n",
      "Requirement already satisfied: google-api-core!=2.0.*,!=2.1.*,!=2.2.*,!=2.3.0,<3.0.0dev,>=1.31.5 in /opt/conda/lib/python3.10/site-packages (from google-cloud-storage->polclassifier==0.0.1) (2.10.1)\n",
      "Requirement already satisfied: google-cloud-core<3.0dev,>=2.3.0 in /opt/conda/lib/python3.10/site-packages (from google-cloud-storage->polclassifier==0.0.1) (2.4.1)\n",
      "Requirement already satisfied: google-resumable-media>=2.6.0 in /opt/conda/lib/python3.10/site-packages (from google-cloud-storage->polclassifier==0.0.1) (2.7.0)\n",
      "Requirement already satisfied: requests<3.0.0dev,>=2.18.0 in /opt/conda/lib/python3.10/site-packages (from google-cloud-storage->polclassifier==0.0.1) (2.31.0)\n",
      "Requirement already satisfied: google-crc32c<2.0dev,>=1.0 in /opt/conda/lib/python3.10/site-packages (from google-cloud-storage->polclassifier==0.0.1) (1.5.0)\n",
      "Requirement already satisfied: anyio in /opt/conda/lib/python3.10/site-packages (from httpx->polclassifier==0.0.1) (4.3.0)\n",
      "Requirement already satisfied: certifi in /opt/conda/lib/python3.10/site-packages (from httpx->polclassifier==0.0.1) (2024.2.2)\n",
      "Requirement already satisfied: httpcore==1.* in /opt/conda/lib/python3.10/site-packages (from httpx->polclassifier==0.0.1) (1.0.5)\n",
      "Requirement already satisfied: idna in /opt/conda/lib/python3.10/site-packages (from httpx->polclassifier==0.0.1) (3.7)\n",
      "Requirement already satisfied: sniffio in /opt/conda/lib/python3.10/site-packages (from httpx->polclassifier==0.0.1) (1.3.1)\n",
      "Requirement already satisfied: h11<0.15,>=0.13 in /opt/conda/lib/python3.10/site-packages (from httpcore==1.*->httpx->polclassifier==0.0.1) (0.14.0)\n",
      "Requirement already satisfied: click in /opt/conda/lib/python3.10/site-packages (from nltk->polclassifier==0.0.1) (8.1.7)\n",
      "Requirement already satisfied: regex>=2021.8.3 in /opt/conda/lib/python3.10/site-packages (from nltk->polclassifier==0.0.1) (2024.4.16)\n",
      "Requirement already satisfied: tqdm in /opt/conda/lib/python3.10/site-packages (from nltk->polclassifier==0.0.1) (4.66.2)\n",
      "Requirement already satisfied: python-dateutil>=2.8.2 in /opt/conda/lib/python3.10/site-packages (from pandas->polclassifier==0.0.1) (2.9.0)\n",
      "Requirement already satisfied: tzdata>=2022.7 in /opt/conda/lib/python3.10/site-packages (from pandas->polclassifier==0.0.1) (2024.1)\n",
      "Requirement already satisfied: pytest<9,>=7.0.0 in /opt/conda/lib/python3.10/site-packages (from pytest-asyncio->polclassifier==0.0.1) (8.2.0)\n",
      "Requirement already satisfied: googleapis-common-protos<2.0dev,>=1.56.2 in /opt/conda/lib/python3.10/site-packages (from google-api-core!=2.0.*,!=2.1.*,!=2.2.*,!=2.3.0,<3.0.0dev,>=1.31.5->google-cloud-storage->polclassifier==0.0.1) (1.56.4)\n",
      "Requirement already satisfied: cachetools<6.0,>=2.0.0 in /opt/conda/lib/python3.10/site-packages (from google-auth<3.0dev,>=2.23.3->google-cloud-storage->polclassifier==0.0.1) (4.2.4)\n",
      "Requirement already satisfied: pyasn1-modules>=0.2.1 in /opt/conda/lib/python3.10/site-packages (from google-auth<3.0dev,>=2.23.3->google-cloud-storage->polclassifier==0.0.1) (0.4.0)\n",
      "Requirement already satisfied: rsa<5,>=3.1.4 in /opt/conda/lib/python3.10/site-packages (from google-auth<3.0dev,>=2.23.3->google-cloud-storage->polclassifier==0.0.1) (4.9)\n",
      "Requirement already satisfied: iniconfig in /opt/conda/lib/python3.10/site-packages (from pytest<9,>=7.0.0->pytest-asyncio->polclassifier==0.0.1) (2.0.0)\n",
      "Requirement already satisfied: packaging in /opt/conda/lib/python3.10/site-packages (from pytest<9,>=7.0.0->pytest-asyncio->polclassifier==0.0.1) (24.0)\n",
      "Requirement already satisfied: pluggy<2.0,>=1.5 in /opt/conda/lib/python3.10/site-packages (from pytest<9,>=7.0.0->pytest-asyncio->polclassifier==0.0.1) (1.5.0)\n",
      "Requirement already satisfied: exceptiongroup>=1.0.0rc8 in /opt/conda/lib/python3.10/site-packages (from pytest<9,>=7.0.0->pytest-asyncio->polclassifier==0.0.1) (1.2.0)\n",
      "Requirement already satisfied: tomli>=1 in /opt/conda/lib/python3.10/site-packages (from pytest<9,>=7.0.0->pytest-asyncio->polclassifier==0.0.1) (2.0.1)\n",
      "Requirement already satisfied: six>=1.5 in /opt/conda/lib/python3.10/site-packages (from python-dateutil>=2.8.2->pandas->polclassifier==0.0.1) (1.16.0)\n",
      "Requirement already satisfied: charset-normalizer<4,>=2 in /opt/conda/lib/python3.10/site-packages (from requests<3.0.0dev,>=2.18.0->google-cloud-storage->polclassifier==0.0.1) (3.3.2)\n",
      "Requirement already satisfied: urllib3<3,>=1.21.1 in /opt/conda/lib/python3.10/site-packages (from requests<3.0.0dev,>=2.18.0->google-cloud-storage->polclassifier==0.0.1) (1.26.18)\n",
      "Requirement already satisfied: wrapt in /opt/conda/lib/python3.10/site-packages (from smart-open>=1.8.1->gensim->polclassifier==0.0.1) (1.16.0)\n",
      "Requirement already satisfied: pyasn1<0.7.0,>=0.4.6 in /opt/conda/lib/python3.10/site-packages (from pyasn1-modules>=0.2.1->google-auth<3.0dev,>=2.23.3->google-cloud-storage->polclassifier==0.0.1) (0.6.0)\n",
      "Installing collected packages: polclassifier\n",
      "  Attempting uninstall: polclassifier\n",
      "    Found existing installation: polclassifier 0.0.1\n",
      "    Uninstalling polclassifier-0.0.1:\n",
      "      Successfully uninstalled polclassifier-0.0.1\n",
      "  Running setup.py develop for polclassifier\n",
      "Successfully installed polclassifier-0.0.1\n"
     ]
    }
   ],
   "source": [
    "!pip install -e .."
   ]
  },
  {
   "cell_type": "code",
   "execution_count": 94,
   "id": "9526d146-0f3a-4be7-a7c2-3ec989572986",
   "metadata": {
    "tags": []
   },
   "outputs": [],
   "source": [
    "%reload_ext autoreload\n",
    "%autoreload 2"
   ]
  },
  {
   "cell_type": "code",
   "execution_count": 95,
   "id": "a4d8a210-864f-4755-bc7d-6ab6b6b2a9cd",
   "metadata": {
    "tags": []
   },
   "outputs": [],
   "source": [
    "import os\n",
    "import pandas as pd\n",
    "import seaborn as sns\n",
    "\n",
    "from sklearn.model_selection import train_test_split\n",
    "\n",
    "from polclassifier.ml_logic.registry import load_model_sklearn\n",
    "from polclassifier.utils import plot_confusion_matrix\n",
    "from polclassifier.interface.main import preprocess, train_evaluate_model_svm\n",
    "from polclassifier.ml_logic.models import evaluate_model_svm\n",
    "from polclassifier.params import * "
   ]
  },
  {
   "cell_type": "code",
   "execution_count": 44,
   "id": "6a5271e9-56bf-46c1-821d-c6f1e6a90383",
   "metadata": {
    "tags": []
   },
   "outputs": [],
   "source": [
    "# raw_data_path = os.path.join(\n",
    "#             LOCAL_PATH, \"raw_data\", \"Corp_HouseOfCommons_V2.feather\")\n",
    "# data = pd.read_feather(raw_data_path)"
   ]
  },
  {
   "cell_type": "code",
   "execution_count": 45,
   "id": "fc210f34-d2f2-4c72-9420-e2ee7b15eab7",
   "metadata": {
    "tags": []
   },
   "outputs": [],
   "source": [
    "# data[\"year\"] = pd.DatetimeIndex(data.date).year\n",
    "# data[\"word_n_full\"] = data.apply(lambda row: len(row[\"text\"].strip().split()), axis=1)"
   ]
  },
  {
   "cell_type": "code",
   "execution_count": 27,
   "id": "99761f7f-69b9-465c-a9a8-744031f30186",
   "metadata": {
    "tags": []
   },
   "outputs": [
    {
     "data": {
      "text/plain": [
       "party\n",
       "Con                 39384\n",
       "Lab                 31841\n",
       "LibDem               5312\n",
       "SNP                  4885\n",
       "DUP                  1708\n",
       "PlaidCymru            537\n",
       "SDLP                  389\n",
       "GPEW                  267\n",
       "Independent           224\n",
       "APNI                   64\n",
       "UUP                    48\n",
       "Change UK              39\n",
       "UKIP                   28\n",
       "Respect                15\n",
       "The Independents        6\n",
       "Name: count, dtype: int64"
      ]
     },
     "execution_count": 27,
     "metadata": {},
     "output_type": "execute_result"
    }
   ],
   "source": [
    "data_2010s = data[(data[\"year\"]>=2010) & (data[\"word_n_full\"] >= MIN_WORD_COUNT)]\n",
    "data_2010s.value_counts(\"party\")"
   ]
  },
  {
   "cell_type": "markdown",
   "id": "3955dd41-222d-45da-adf9-cfc10cdde415",
   "metadata": {},
   "source": [
    "# Model performance, Confusion Matrix"
   ]
  },
  {
   "cell_type": "code",
   "execution_count": 90,
   "id": "1bb3e3b5-aa50-4106-80ff-927b4d8507ec",
   "metadata": {},
   "outputs": [
    {
     "name": "stdout",
     "output_type": "stream",
     "text": [
      "\u001b[34m\n",
      "Load latest model from local registry...\u001b[0m\n",
      "../training_outputs/models\n",
      "\u001b[34m\n",
      "Load latest model from disk...\u001b[0m\n",
      "✅ Model loaded from local disk\n"
     ]
    }
   ],
   "source": [
    "model = load_model_sklearn()"
   ]
  },
  {
   "cell_type": "code",
   "execution_count": 91,
   "id": "e680e25a-5c89-4345-ab51-10e3b78a7cf7",
   "metadata": {
    "tags": []
   },
   "outputs": [
    {
     "data": {
      "text/html": [
       "<style>#sk-container-id-3 {color: black;}#sk-container-id-3 pre{padding: 0;}#sk-container-id-3 div.sk-toggleable {background-color: white;}#sk-container-id-3 label.sk-toggleable__label {cursor: pointer;display: block;width: 100%;margin-bottom: 0;padding: 0.3em;box-sizing: border-box;text-align: center;}#sk-container-id-3 label.sk-toggleable__label-arrow:before {content: \"▸\";float: left;margin-right: 0.25em;color: #696969;}#sk-container-id-3 label.sk-toggleable__label-arrow:hover:before {color: black;}#sk-container-id-3 div.sk-estimator:hover label.sk-toggleable__label-arrow:before {color: black;}#sk-container-id-3 div.sk-toggleable__content {max-height: 0;max-width: 0;overflow: hidden;text-align: left;background-color: #f0f8ff;}#sk-container-id-3 div.sk-toggleable__content pre {margin: 0.2em;color: black;border-radius: 0.25em;background-color: #f0f8ff;}#sk-container-id-3 input.sk-toggleable__control:checked~div.sk-toggleable__content {max-height: 200px;max-width: 100%;overflow: auto;}#sk-container-id-3 input.sk-toggleable__control:checked~label.sk-toggleable__label-arrow:before {content: \"▾\";}#sk-container-id-3 div.sk-estimator input.sk-toggleable__control:checked~label.sk-toggleable__label {background-color: #d4ebff;}#sk-container-id-3 div.sk-label input.sk-toggleable__control:checked~label.sk-toggleable__label {background-color: #d4ebff;}#sk-container-id-3 input.sk-hidden--visually {border: 0;clip: rect(1px 1px 1px 1px);clip: rect(1px, 1px, 1px, 1px);height: 1px;margin: -1px;overflow: hidden;padding: 0;position: absolute;width: 1px;}#sk-container-id-3 div.sk-estimator {font-family: monospace;background-color: #f0f8ff;border: 1px dotted black;border-radius: 0.25em;box-sizing: border-box;margin-bottom: 0.5em;}#sk-container-id-3 div.sk-estimator:hover {background-color: #d4ebff;}#sk-container-id-3 div.sk-parallel-item::after {content: \"\";width: 100%;border-bottom: 1px solid gray;flex-grow: 1;}#sk-container-id-3 div.sk-label:hover label.sk-toggleable__label {background-color: #d4ebff;}#sk-container-id-3 div.sk-serial::before {content: \"\";position: absolute;border-left: 1px solid gray;box-sizing: border-box;top: 0;bottom: 0;left: 50%;z-index: 0;}#sk-container-id-3 div.sk-serial {display: flex;flex-direction: column;align-items: center;background-color: white;padding-right: 0.2em;padding-left: 0.2em;position: relative;}#sk-container-id-3 div.sk-item {position: relative;z-index: 1;}#sk-container-id-3 div.sk-parallel {display: flex;align-items: stretch;justify-content: center;background-color: white;position: relative;}#sk-container-id-3 div.sk-item::before, #sk-container-id-3 div.sk-parallel-item::before {content: \"\";position: absolute;border-left: 1px solid gray;box-sizing: border-box;top: 0;bottom: 0;left: 50%;z-index: -1;}#sk-container-id-3 div.sk-parallel-item {display: flex;flex-direction: column;z-index: 1;position: relative;background-color: white;}#sk-container-id-3 div.sk-parallel-item:first-child::after {align-self: flex-end;width: 50%;}#sk-container-id-3 div.sk-parallel-item:last-child::after {align-self: flex-start;width: 50%;}#sk-container-id-3 div.sk-parallel-item:only-child::after {width: 0;}#sk-container-id-3 div.sk-dashed-wrapped {border: 1px dashed gray;margin: 0 0.4em 0.5em 0.4em;box-sizing: border-box;padding-bottom: 0.4em;background-color: white;}#sk-container-id-3 div.sk-label label {font-family: monospace;font-weight: bold;display: inline-block;line-height: 1.2em;}#sk-container-id-3 div.sk-label-container {text-align: center;}#sk-container-id-3 div.sk-container {/* jupyter's `normalize.less` sets `[hidden] { display: none; }` but bootstrap.min.css set `[hidden] { display: none !important; }` so we also need the `!important` here to be able to override the default hidden behavior on the sphinx rendered scikit-learn.org. See: https://github.com/scikit-learn/scikit-learn/issues/21755 */display: inline-block !important;position: relative;}#sk-container-id-3 div.sk-text-repr-fallback {display: none;}</style><div id=\"sk-container-id-3\" class=\"sk-top-container\"><div class=\"sk-text-repr-fallback\"><pre>SVC(C=4.2, kernel=&#x27;linear&#x27;)</pre><b>In a Jupyter environment, please rerun this cell to show the HTML representation or trust the notebook. <br />On GitHub, the HTML representation is unable to render, please try loading this page with nbviewer.org.</b></div><div class=\"sk-container\" hidden><div class=\"sk-item\"><div class=\"sk-estimator sk-toggleable\"><input class=\"sk-toggleable__control sk-hidden--visually\" id=\"sk-estimator-id-3\" type=\"checkbox\" checked><label for=\"sk-estimator-id-3\" class=\"sk-toggleable__label sk-toggleable__label-arrow\">SVC</label><div class=\"sk-toggleable__content\"><pre>SVC(C=4.2, kernel=&#x27;linear&#x27;)</pre></div></div></div></div></div>"
      ],
      "text/plain": [
       "SVC(C=4.2, kernel='linear')"
      ]
     },
     "execution_count": 91,
     "metadata": {},
     "output_type": "execute_result"
    }
   ],
   "source": [
    "model"
   ]
  },
  {
   "cell_type": "code",
   "execution_count": 88,
   "id": "56210b95-0d7c-438e-8276-05d058c1faec",
   "metadata": {
    "tags": []
   },
   "outputs": [
    {
     "name": "stdout",
     "output_type": "stream",
     "text": [
      "\u001b[35m\n",
      "⭐️ Use case: train\u001b[0m\n",
      "\u001b[34m\n",
      "Loading preprocessed validation data...\u001b[0m\n",
      "\u001b[35m\n",
      " ⭐️ Use case: preprocess\u001b[0m\n",
      "✅ X and y loaded in from cache \n",
      "\n",
      "y shape: (8500,)\n",
      "Data split in to test and train\n",
      "✅ Model fit \n",
      "\n",
      "✅ Model trained \n",
      "\n",
      "Model accuracy: 0.6182352941176471\n",
      "Saving model...\n",
      "✅ Model saved locally\n"
     ]
    }
   ],
   "source": [
    "accuracy = train_evaluate_model_svm()"
   ]
  },
  {
   "cell_type": "code",
   "execution_count": 92,
   "id": "f17ea595-4891-4748-b16a-30ef7d13e732",
   "metadata": {
    "tags": []
   },
   "outputs": [
    {
     "name": "stdout",
     "output_type": "stream",
     "text": [
      "\u001b[35m\n",
      " ⭐️ Use case: preprocess\u001b[0m\n",
      "✅ X and y loaded in from cache \n",
      "\n",
      "prediction made\n"
     ]
    },
    {
     "data": {
      "image/png": "[encoded data removed]",
      "text/plain": [
       "<Figure size 800x600 with 2 Axes>"
      ]
     },
     "metadata": {},
     "output_type": "display_data"
    }
   ],
   "source": [
    "plot_confusion_matrix(model)"
   ]
  },
  {
   "cell_type": "code",
   "execution_count": null,
   "id": "10ad4369-3332-4275-88d2-56e95f42ad77",
   "metadata": {},
   "outputs": [],
   "source": []
  }
 ],
 "metadata": {
  "environment": {
   "kernel": "python3",
   "name": "tf2-cpu.2-11.m120",
   "type": "gcloud",
   "uri": "us-docker.pkg.dev/deeplearning-platform-release/gcr.io/tf2-cpu.2-11:m120"
  },
  "kernelspec": {
   "display_name": "Python 3 (Local)",
   "language": "python",
   "name": "python3"
  },
  "language_info": {
   "codemirror_mode": {
    "name": "ipython",
    "version": 3
   },
   "file_extension": ".py",
   "mimetype": "text/x-python",
   "name": "python",
   "nbconvert_exporter": "python",
   "pygments_lexer": "ipython3",
   "version": "3.10.14"
  }
 },
 "nbformat": 4,
 "nbformat_minor": 5
}
