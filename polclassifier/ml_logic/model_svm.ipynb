{
 "cells": [
  {
   "cell_type": "code",
   "execution_count": 2,
   "id": "d94b2a3e-474c-486c-b615-df0050358d2d",
   "metadata": {},
   "outputs": [],
   "source": [
    "# Import usual libraries\n",
    "import numpy as np\n",
    "import pandas as pd\n",
    "import matplotlib.pyplot as plt\n",
    "from sklearn.svm import LinearSVC\n",
    "from sklearn.linear_model import LogisticRegression\n",
    "from sklearn.model_selection import cross_val_score\n",
    "from sklearn.model_selection import RandomizedSearchCV\n",
    "from sklearn.model_selection import train_test_split\n",
    "from sklearn.metrics import accuracy_score\n",
    "from sklearn.svm import SVC\n",
    "from sklearn.neighbors import KNeighborsClassifier\n",
    "from scipy.stats import uniform, randint"
   ]
  },
  {
   "cell_type": "code",
   "execution_count": 3,
   "id": "cb16a6a8-b1f8-4df2-89dd-d6ed7775b8dc",
   "metadata": {},
   "outputs": [],
   "source": [
    "# Loading data\n",
    "X = pd.read_csv(\"/home/hailinh/code/szaboildi/uk-pol-speech-classifier/raw_data/features_1000sample_400min_600cutoff.csv\")\n",
    "y = pd.read_csv(\"/home/hailinh/code/szaboildi/uk-pol-speech-classifier/raw_data/target_1000sample_400min_600cutoff.csv\")"
   ]
  },
  {
   "cell_type": "code",
   "execution_count": 4,
   "id": "54d2fac8-8629-4ee4-b311-7938bcb33592",
   "metadata": {},
   "outputs": [
    {
     "data": {
      "text/plain": [
       "(array([1, 2, 3, 4, 5, 6, 7]), array([1, 1, 1, ..., 7, 7, 7]))"
      ]
     },
     "execution_count": 4,
     "metadata": {},
     "output_type": "execute_result"
    }
   ],
   "source": [
    "# Convert one-hot encoded target array back to class labels\n",
    "y = y.drop(columns=\"Unnamed: 0\")\n",
    "y_not_encoded = y.columns.get_indexer(y.idxmax(1))+1\n",
    "np.unique(y_not_encoded), y_not_encoded\n"
   ]
  },
  {
   "cell_type": "code",
   "execution_count": 5,
   "id": "44c57007-60e8-4756-9272-9d615dca3b86",
   "metadata": {},
   "outputs": [],
   "source": [
    "# Splitting the Data\n",
    "X_train, X_test, y_train, y_test = train_test_split(X, y_not_encoded, test_size=0.2, random_state=42)"
   ]
  },
  {
   "cell_type": "code",
   "execution_count": null,
   "id": "51a73281-e680-4e0b-b52e-fca58a069174",
   "metadata": {},
   "outputs": [],
   "source": [
    "# Define the hyperparameter grid\n",
    "param_grid = {\n",
    "    'C': uniform(0.1, 10),  # Penalty parameter C (regularization parameter)\n",
    "    'kernel': ['linear', 'poly', 'rbf', 'sigmoid'],  # Kernel type\n",
    "    'gamma': ['scale', 'auto'],  # Kernel coefficient for 'rbf', 'poly' and 'sigmoid'\n",
    "    'degree': randint(1, 10)  # Degree of the polynomial kernel function ('poly')\n",
    "}\n",
    "\n",
    "# Create an SVM classifier\n",
    "svm_classifier = SVC()\n",
    "\n",
    "# Perform random search cross-validation\n",
    "random_search = RandomizedSearchCV(svm_classifier, param_distributions=param_grid, n_iter=10, scoring='accuracy', cv=5, n_jobs=-1)\n",
    "random_search.fit(X, y_not_encoded)\n",
    "\n",
    "# Best hyperparameters found\n",
    "print(\"Best Hyperparameters:\", random_search.best_params_)\n",
    "\n",
    "# Best cross-validation score\n",
    "print(\"Best Cross-validation Score:\", random_search.best_score_)\n",
    "\n",
    "# Evaluate the best model on test data\n",
    "best_model = random_search.best_estimator_\n",
    "y_pred = best_model.predict(X_test)\n",
    "accuracy = accuracy_score(y_test, y_pred)\n",
    "print(\"Accuracy on Test Data:\", accuracy)"
   ]
  },
  {
   "cell_type": "code",
   "execution_count": null,
   "id": "532754a5-59ac-42a8-83c8-d38acda918c0",
   "metadata": {},
   "outputs": [],
   "source": [
    "y.columns"
   ]
  },
  {
   "cell_type": "code",
   "execution_count": null,
   "id": "14b9a752-859e-4956-94e2-aebd6fbab707",
   "metadata": {},
   "outputs": [],
   "source": []
  }
 ],
 "metadata": {
  "kernelspec": {
   "display_name": "Python 3 (ipykernel)",
   "language": "python",
   "name": "python3"
  },
  "language_info": {
   "codemirror_mode": {
    "name": "ipython",
    "version": 3
   },
   "file_extension": ".py",
   "mimetype": "text/x-python",
   "name": "python",
   "nbconvert_exporter": "python",
   "pygments_lexer": "ipython3",
   "version": "3.10.6"
  }
 },
 "nbformat": 4,
 "nbformat_minor": 5
}
